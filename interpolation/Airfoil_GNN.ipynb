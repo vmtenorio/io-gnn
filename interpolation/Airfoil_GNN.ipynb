{
 "cells": [
  {
   "cell_type": "code",
   "execution_count": 1,
   "metadata": {},
   "outputs": [
    {
     "name": "stderr",
     "output_type": "stream",
     "text": [
      "/home/vtenorio/.local/lib/python3.8/site-packages/torch_geometric/typing.py:54: UserWarning: An issue occurred while importing 'pyg-lib'. Disabling its usage. Stacktrace: libtorch_cuda_cpp.so: cannot open shared object file: No such file or directory\n",
      "  warnings.warn(f\"An issue occurred while importing 'pyg-lib'. \"\n",
      "/home/vtenorio/.local/lib/python3.8/site-packages/torch_geometric/typing.py:99: UserWarning: An issue occurred while importing 'torch-spline-conv'. Disabling its usage. Stacktrace: /home/vtenorio/.local/lib/python3.8/site-packages/torch_spline_conv/_basis_cuda.so: undefined symbol: _ZN3c106detail19maybe_wrap_dim_slowEllb\n",
      "  warnings.warn(\n"
     ]
    }
   ],
   "source": [
    "import numpy as np\n",
    "import torch\n",
    "import matplotlib.pyplot as plt\n",
    "\n",
    "import networkx as nx\n",
    "import dgl\n",
    "\n",
    "import sys\n",
    "sys.path.append('..')\n",
    "from arch import *\n",
    "from arch_noDGL import IOGCNH\n",
    "\n",
    "\n",
    "import pytorch_lightning as pl\n",
    "\n",
    "from utils.mesh_utils import plot_field, get_mesh_graph, quad2tri"
   ]
  },
  {
   "cell_type": "code",
   "execution_count": 2,
   "metadata": {},
   "outputs": [],
   "source": [
    "device = torch.device('cuda' if torch.cuda.is_available() else 'cpu')"
   ]
  },
  {
   "cell_type": "markdown",
   "metadata": {},
   "source": [
    "# IO-GNN"
   ]
  },
  {
   "cell_type": "code",
   "execution_count": 3,
   "metadata": {},
   "outputs": [],
   "source": [
    "input_data = \"mydata/xcoarse_data\"\n",
    "data = np.load(input_data + \"/proc_data.npz\")\n",
    "S_coarse = data[\"adj\"]\n",
    "data_coarse = data[\"data\"]\n",
    "feat_names = list(data[\"feat_names\"])"
   ]
  },
  {
   "cell_type": "code",
   "execution_count": 4,
   "metadata": {},
   "outputs": [],
   "source": [
    "output_data = \"mydata/fine_data\"\n",
    "data = np.load(output_data + \"/proc_data.npz\")\n",
    "S_fine = data[\"adj\"]\n",
    "data_fine = data[\"data\"]\n",
    "feat_names = list(data[\"feat_names\"])"
   ]
  },
  {
   "cell_type": "code",
   "execution_count": 5,
   "metadata": {},
   "outputs": [
    {
     "data": {
      "text/plain": [
       "((11550, 353, 15), (11550, 6684, 15))"
      ]
     },
     "execution_count": 5,
     "metadata": {},
     "output_type": "execute_result"
    }
   ],
   "source": [
    "data_coarse.shape, data_fine.shape"
   ]
  },
  {
   "cell_type": "code",
   "execution_count": 6,
   "metadata": {},
   "outputs": [],
   "source": [
    "# Drop PointID\n",
    "if \"PointID\" in feat_names:\n",
    "    del feat_names[0]\n",
    "    data_coarse = data_coarse[:,:,1:]\n",
    "    data_fine = data_fine[:,:,1:]"
   ]
  },
  {
   "cell_type": "code",
   "execution_count": 7,
   "metadata": {},
   "outputs": [
    {
     "data": {
      "text/plain": [
       "['x',\n",
       " 'y',\n",
       " 'Density',\n",
       " 'Momentum_x',\n",
       " 'Momentum_y',\n",
       " 'Energy',\n",
       " 'Pressure',\n",
       " 'Temperature',\n",
       " 'Mach',\n",
       " 'Pressure_Coefficient',\n",
       " 'Vel_x',\n",
       " 'Vel_y',\n",
       " 'MachSimulation',\n",
       " 'AoA']"
      ]
     },
     "execution_count": 7,
     "metadata": {},
     "output_type": "execute_result"
    }
   ],
   "source": [
    "feat_names"
   ]
  },
  {
   "cell_type": "code",
   "execution_count": 8,
   "metadata": {},
   "outputs": [],
   "source": [
    "inputs = [\"x\", \"y\", \"Vel_x\", \"Vel_y\", \"Pressure\", \"Temperature\", \"MachSimulation\", \"AoA\"]\n",
    "idxs_input = [feat_names.index(l) for l in inputs]"
   ]
  },
  {
   "cell_type": "code",
   "execution_count": 9,
   "metadata": {},
   "outputs": [],
   "source": [
    "labels = [\"Momentum_x\", \"Momentum_y\", \"Pressure\"]#[\"Vel_x\", \"Vel_y\", \"Pressure\"]\n",
    "idxs_label = [feat_names.index(l) for l in labels]"
   ]
  },
  {
   "cell_type": "code",
   "execution_count": 10,
   "metadata": {},
   "outputs": [
    {
     "data": {
      "text/plain": [
       "(True, True)"
      ]
     },
     "execution_count": 10,
     "metadata": {},
     "output_type": "execute_result"
    }
   ],
   "source": [
    "np.allclose(data_coarse[:,:,3] / data_coarse[:,:,2], data_coarse[:,:,10]), np.allclose(data_coarse[:,:,4] / data_coarse[:,:,2], data_coarse[:,:,11])"
   ]
  },
  {
   "cell_type": "code",
   "execution_count": 11,
   "metadata": {},
   "outputs": [
    {
     "data": {
      "text/plain": [
       "11550"
      ]
     },
     "execution_count": 11,
     "metadata": {},
     "output_type": "execute_result"
    }
   ],
   "source": [
    "n_timesteps = data_coarse.shape[0]\n",
    "n_timesteps"
   ]
  },
  {
   "cell_type": "code",
   "execution_count": 12,
   "metadata": {},
   "outputs": [],
   "source": [
    "split = \"paper_interpolation\"\n",
    "if split == \"random\":\n",
    "    # Random time-test split\n",
    "    N_train = 500\n",
    "    N_test = 200\n",
    "    idxs = np.random.permutation(n_timesteps)\n",
    "    idxs_train = idxs[:N_train]\n",
    "    idxs_test = idxs[N_train:N_train+N_test]\n",
    "elif split == \"consecutive\":\n",
    "    N_train = 500\n",
    "    N_test = 200\n",
    "    idxs_train = torch.arange(n_timesteps)[:N_train]\n",
    "    idxs_test = torch.arange(n_timesteps)[N_train:N_train+N_test]\n",
    "elif split == \"paper_interpolation\":\n",
    "    MACH_TRAIN_LIST = [0.2, 0.3, 0.35, 0.4, 0.5, 0.55, 0.6, 0.7]#, 0.8]\n",
    "    MACH_TEST_LIST = [0.25, 0.45, 0.65]\n",
    "    idxs_train = np.isin(data_coarse[:,0,-2], MACH_TRAIN_LIST)\n",
    "    idxs_test = np.isin(data_coarse[:,0,-2], MACH_TEST_LIST)\n",
    "    N_train = idxs_train.sum()\n",
    "    N_test = idxs_test.sum()\n",
    "elif split == \"paper_generalization\":\n",
    "    idxs_train = data_coarse[:,0,-2] <= 0.5\n",
    "    idxs_test = data_coarse[:,0,-2] > 0.5\n",
    "    N_train = idxs_train.sum()\n",
    "    N_test = idxs_test.sum()"
   ]
  },
  {
   "cell_type": "code",
   "execution_count": 13,
   "metadata": {},
   "outputs": [],
   "source": [
    "norm_method = \"MinMax\"\n",
    "if norm_method == \"MinMax\":\n",
    "    data_coarse_n = (data_coarse - data_coarse.min(axis=(0,1))) / (data_coarse.max(axis=(0,1)) - data_coarse.min(axis=(0,1)))\n",
    "    data_fine_n = (data_fine - data_fine.min(axis=(0,1))) / (data_fine.max(axis=(0,1)) - data_fine.min(axis=(0,1)))\n",
    "elif norm_method == \"Standard\":\n",
    "    data_coarse_n = (data_coarse - data_coarse.mean(axis=(0,1))) / data_coarse.std(axis=(0,1))\n",
    "    data_fine_n = (data_fine - data_fine.mean(axis=(0,1))) / data_fine.std(axis=(0,1))\n",
    "x_train2 = data_coarse_n[idxs_train,:,:]#[:,:,idxs_input]\n",
    "y_train2 = data_fine_n[idxs_train,:,:][:,:,idxs_label]\n",
    "x_test2 = data_coarse_n[idxs_test,:,:]#[:,:,idxs_input]\n",
    "y_test2 = data_fine_n[idxs_test,:,:][:,:,idxs_label]"
   ]
  },
  {
   "cell_type": "code",
   "execution_count": 14,
   "metadata": {},
   "outputs": [
    {
     "data": {
      "text/plain": [
       "((8400, 353, 14), (3150, 353, 14))"
      ]
     },
     "execution_count": 14,
     "metadata": {},
     "output_type": "execute_result"
    }
   ],
   "source": [
    "x_train = data_coarse[idxs_train,:,:]#[:,:,idxs_input]\n",
    "y_train = data_fine[idxs_train,:,:][:,:,idxs_label]\n",
    "x_test = data_coarse[idxs_test,:,:]#[:,:,idxs_input]\n",
    "y_test = data_fine[idxs_test,:,:][:,:,idxs_label]\n",
    "x_train.shape, x_test.shape"
   ]
  },
  {
   "cell_type": "code",
   "execution_count": 15,
   "metadata": {},
   "outputs": [],
   "source": [
    "norm_method = \"MinMax\"\n",
    "if norm_method == \"MinMax\":\n",
    "    min_feat_x = x_train.min(axis=(0,1))\n",
    "    max_feat_x = x_train.max(axis=(0,1))\n",
    "    min_feat_y = y_train.min(axis=(0,1))\n",
    "    max_feat_y = y_train.max(axis=(0,1))\n",
    "    x_train = (x_train - min_feat_x) / (max_feat_x - min_feat_x)\n",
    "    y_train = (y_train - min_feat_y) / (max_feat_y - min_feat_y)\n",
    "    x_test = (x_test - min_feat_x) / (max_feat_x - min_feat_x)\n",
    "    y_test = (y_test - min_feat_y) / (max_feat_y - min_feat_y)\n",
    "elif norm_method == \"Standard\":\n",
    "    data_coarse_n = (data_coarse - data_coarse.mean(axis=(0,1))) / data_coarse.std(axis=(0,1))\n",
    "    data_fine_n = (data_fine - data_fine.mean(axis=(0,1))) / data_fine.std(axis=(0,1))"
   ]
  },
  {
   "cell_type": "code",
   "execution_count": 16,
   "metadata": {},
   "outputs": [],
   "source": [
    "x_train = torch.Tensor(x_train)\n",
    "y_train = torch.Tensor(y_train)\n",
    "x_test = torch.Tensor(x_test)\n",
    "y_test = torch.Tensor(y_test)"
   ]
  },
  {
   "cell_type": "code",
   "execution_count": 17,
   "metadata": {},
   "outputs": [],
   "source": [
    "gx_nx = nx.from_numpy_array(S_coarse)\n",
    "gx = dgl.from_networkx(gx_nx).add_self_loop()\n",
    "gy_nx = nx.from_numpy_array(S_fine)\n",
    "gy = dgl.from_networkx(gy_nx).add_self_loop()"
   ]
  },
  {
   "cell_type": "code",
   "execution_count": 18,
   "metadata": {},
   "outputs": [],
   "source": [
    "N_coarse = S_coarse.shape[0]\n",
    "N_fine = S_fine.shape[0]"
   ]
  },
  {
   "cell_type": "code",
   "execution_count": 19,
   "metadata": {},
   "outputs": [],
   "source": [
    "coords_coarse = data_coarse[0,:,:2]\n",
    "coords_fine = data_fine[0,:,:2]\n",
    "C = np.zeros((N_fine, N_coarse))\n",
    "for i in range(N_fine):\n",
    "    dists = ((coords_coarse - coords_fine[i,:])**2).sum(1)\n",
    "    j = np.argmin(dists)\n",
    "    C[i,j] = 1.\n",
    "\n",
    "C = torch.Tensor(C)"
   ]
  },
  {
   "cell_type": "code",
   "execution_count": 20,
   "metadata": {},
   "outputs": [],
   "source": [
    "lr = 5e-5\n",
    "wd = 1e-10\n",
    "n_epochs = 500\n",
    "batch_size = 16\n",
    "n_layers = 3\n",
    "hid_dim = 512\n",
    "eval_freq = 20\n",
    "nonlin_fn = torch.nn.ReLU\n",
    "K = 4\n",
    "\n",
    "method = \"transpose\""
   ]
  },
  {
   "cell_type": "code",
   "execution_count": 21,
   "metadata": {},
   "outputs": [],
   "source": [
    "# define the LightningModule\n",
    "class LitModel(pl.LightningModule):\n",
    "    def __init__(self, model_name, in_dim, hid_dim, out_dim, N_coarse, N_fine, n_layers_x, n_layers_y, method, n_sel, gx, gy, build_params):\n",
    "        super().__init__()\n",
    "        self.save_hyperparameters(\"model_name\", \"hid_dim\", \"n_layers_x\", \"n_layers_y\", \"method\", \"build_params\")\n",
    "\n",
    "        self.gx = gx.to('cuda')\n",
    "        self.gy = gy.to('cuda')\n",
    "\n",
    "        coords_coarse = data_coarse[0,:,:2]\n",
    "        coords_fine = data_fine[0,:,:2]\n",
    "        C = np.zeros((N_fine, N_coarse))\n",
    "        for i in range(N_fine):\n",
    "            dists = ((coords_coarse - coords_fine[i,:])**2).sum(1)\n",
    "            js = np.argsort(dists)[:n_sel]\n",
    "            C[i,js] = 1. / n_sel\n",
    "\n",
    "        C = torch.Tensor(C).to('cuda')\n",
    "        \n",
    "        self.model_name = model_name\n",
    "\n",
    "        if self.model_name == \"IOGCN\":\n",
    "            self.model = IOGCN(in_dim, hid_dim, out_dim, N_coarse, N_fine, n_layers_x, [], method=method, build_params=build_params, n_layers_y=n_layers_y, nonlin=nonlin_fn, C=C)\n",
    "        elif self.model_name == \"IOMLP\":\n",
    "            self.model = IOMLP(in_dim, hid_dim, out_dim, N_coarse, N_fine, n_layers_x, [], method=method, n_layers_y=n_layers_y, nonlin=nonlin_fn, C=C)\n",
    "        elif self.model_name == \"IOGCNH\":\n",
    "            self.model = IOGCNH(torch.Tensor(S_coarse), torch.Tensor(S_fine), in_dim, hid_dim, out_dim, N_coarse, N_fine, n_layers_x, n_layers_y, K=K, idxs=[], method=method, nonlin=nonlin_fn, C=C)\n",
    "        elif self.model_name == \"IOGAT\":\n",
    "            self.model = IOGAT(in_dim, hid_dim, out_dim, N_coarse, N_fine, n_layers_x, [], method=method, build_params=build_params, n_layers_y=n_layers_y, nonlin=nonlin_fn, C=C)\n",
    "\n",
    "        else:\n",
    "            raise NotImplementedError()\n",
    "        \n",
    "        self.n_layers_x = n_layers_x\n",
    "        self.n_layers_y = n_layers_y\n",
    "        self.hid_dim = hid_dim\n",
    "        self.method = method\n",
    "        self.n_sel = n_sel\n",
    "\n",
    "        self.loss_fn = nn.MSELoss()\n",
    "\n",
    "    def training_step(self, batch, batch_idx):\n",
    "        # training_step defines the train loop.\n",
    "        # it is independent of forward\n",
    "        x, y = batch\n",
    "        \n",
    "        y_hat = self.model(self.gx, self.gy, x)\n",
    "        loss = self.loss_fn(y_hat, y)\n",
    "        \n",
    "        self.train_loss.append(loss.item())\n",
    "        \n",
    "        return loss\n",
    "\n",
    "    def validation_step(self, val_batch, batch_idx):\n",
    "        # training_step defines the train loop.\n",
    "        # it is independent of forward\n",
    "        x, y = val_batch\n",
    "        y_hat = self.model(self.gx, self.gy, x)\n",
    "        loss = self.loss_fn(y_hat, y)\n",
    "        # Logging to TensorBoard by default\n",
    "        \n",
    "        self.validation_loss.append(loss.item())\n",
    "\n",
    "    def test_step(self, batch, batch_idx):\n",
    "        x, y = batch\n",
    "        y_hat = self.model(self.gx, self.gy, x).squeeze()\n",
    "        loss = self.loss_fn(y_hat, y)\n",
    "        self.log(\"test_mse\", loss)\n",
    "        self.log(\"test_rmse\", torch.sqrt(loss))\n",
    "        \n",
    "    def on_train_epoch_start(self):\n",
    "        self.train_loss = []\n",
    "        \n",
    "    def on_train_epoch_end(self):\n",
    "        avg_loss = np.mean(self.train_loss)\n",
    "\n",
    "        self.log(\"train_mse\", avg_loss)\n",
    "        self.log(\"train_rmse\", np.sqrt(avg_loss))\n",
    "        \n",
    "    def on_validation_epoch_start(self):\n",
    "        self.validation_loss = []\n",
    "        \n",
    "    def on_validation_epoch_end(self):\n",
    "        avg_loss = np.mean(self.validation_loss)\n",
    "\n",
    "        self.log(\"val_mse\", avg_loss)\n",
    "        self.log(\"val_rmse\", np.sqrt(avg_loss))\n",
    "        \n",
    "    def on_train_start(self):\n",
    "        self.loggers[1].log_hyperparams({\"model\": self.model_name,\n",
    "                                         \"split\": split,\n",
    "                                         \"N_train\": N_train,\n",
    "                                         \"lr\": lr,\n",
    "                                         \"batch_size\": batch_size,\n",
    "                                         \"n_sel\": self.n_sel,\n",
    "                                         \"method\": self.method,\n",
    "                                         \"n_layers_x\": self.n_layers_x,\n",
    "                                         \"n_layers_y\": self.n_layers_y,\n",
    "                                         \"hid_dim\": self.hid_dim\n",
    "                                       })\n",
    "\n",
    "    def configure_optimizers(self):\n",
    "        optimizer = torch.optim.Adam(self.parameters(), lr=lr)\n",
    "        return optimizer\n",
    "    \n",
    "    def predict_step(self, batch, batch_idx, dataloader_idx=0):\n",
    "        x,y=batch\n",
    "        return self(x)\n",
    "    \n",
    "    def forward(self, x):\n",
    "        return self.model(self.gx, self.gy, x)"
   ]
  },
  {
   "cell_type": "code",
   "execution_count": 22,
   "metadata": {},
   "outputs": [],
   "source": [
    "dataset_train = torch.utils.data.TensorDataset(x_train, y_train)\n",
    "dataloader_train = torch.utils.data.DataLoader(dataset_train, batch_size=batch_size)\n",
    "dataset_test = torch.utils.data.TensorDataset(x_test, y_test)\n",
    "dataloader_test = torch.utils.data.DataLoader(dataset_test, batch_size=batch_size)"
   ]
  },
  {
   "cell_type": "code",
   "execution_count": 23,
   "metadata": {},
   "outputs": [],
   "source": [
    "in_dim = x_train.shape[2]\n",
    "out_dim = len(labels)"
   ]
  },
  {
   "cell_type": "code",
   "execution_count": 24,
   "metadata": {},
   "outputs": [],
   "source": [
    "def test_model(in_dim, hid_dim, out_dim, N_coarse, N_fine, n_layers_x, n_layers_y, method, n_sel, model_name, build_params, experiment_name):\n",
    "    #early_stop_callback = pl.callbacks.EarlyStopping(monitor=\"val_mse\", min_delta=0.00, patience=50, verbose=False, mode=\"min\")\n",
    "    tb_logger = pl.loggers.TensorBoardLogger(\"tblogs\", name=f\"{experiment_name}/{model_name}\", default_hp_metric=False)\n",
    "    mlf_logger = pl.loggers.MLFlowLogger(experiment_name=experiment_name)\n",
    "    trainer = pl.Trainer(\n",
    "        accelerator=\"auto\",\n",
    "        devices=1,\n",
    "        max_epochs=n_epochs,\n",
    "        #callbacks=[early_stop_callback],\n",
    "        logger=[tb_logger,mlf_logger],\n",
    "        enable_checkpointing=False,\n",
    "        #profiler=\"simple\"\n",
    "    )\n",
    "    \n",
    "    pl_model = LitModel(model_name, in_dim, hid_dim, out_dim, N_coarse, N_fine, n_layers_x, n_layers_y, method, n_sel, gx, gy, build_params)\n",
    "    \n",
    "    trainer.fit(pl_model, dataloader_train)\n",
    "\n",
    "    trainer.test(pl_model, dataloaders=dataloader_test)\n",
    "    \n",
    "    return trainer.predict(pl_model, dataloader_test)"
   ]
  },
  {
   "cell_type": "code",
   "execution_count": 25,
   "metadata": {
    "tags": []
   },
   "outputs": [
    {
     "name": "stderr",
     "output_type": "stream",
     "text": [
      "GPU available: True (cuda), used: True\n",
      "TPU available: False, using: 0 TPU cores\n",
      "IPU available: False, using: 0 IPUs\n",
      "HPU available: False, using: 0 HPUs\n"
     ]
    },
    {
     "name": "stderr",
     "output_type": "stream",
     "text": [
      "/home/vtenorio/.local/lib/python3.8/site-packages/pytorch_lightning/trainer/configuration_validator.py:108: PossibleUserWarning: You defined a `validation_step` but have no `val_dataloader`. Skipping val loop.\n",
      "  rank_zero_warn(\n",
      "LOCAL_RANK: 0 - CUDA_VISIBLE_DEVICES: [0,1]\n",
      "\n",
      "  | Name    | Type    | Params\n",
      "------------------------------------\n",
      "0 | model   | IOGCN   | 2.4 M \n",
      "1 | loss_fn | MSELoss | 0     \n",
      "------------------------------------\n",
      "2.4 M     Trainable params\n",
      "0         Non-trainable params\n",
      "2.4 M     Total params\n",
      "9.457     Total estimated model params size (MB)\n",
      "/home/vtenorio/.local/lib/python3.8/site-packages/pytorch_lightning/trainer/connectors/data_connector.py:224: PossibleUserWarning: The dataloader, train_dataloader, does not have many workers which may be a bottleneck. Consider increasing the value of the `num_workers` argument` (try 128 which is the number of cpus on this machine) in the `DataLoader` init to improve performance.\n",
      "  rank_zero_warn(\n"
     ]
    },
    {
     "data": {
      "application/vnd.jupyter.widget-view+json": {
       "model_id": "4087fbd3cd6b421ca578e51f2e867168",
       "version_major": 2,
       "version_minor": 0
      },
      "text/plain": [
       "Training: 0it [00:00, ?it/s]"
      ]
     },
     "metadata": {},
     "output_type": "display_data"
    },
    {
     "name": "stderr",
     "output_type": "stream",
     "text": [
      "/home/vtenorio/.local/lib/python3.8/site-packages/pytorch_lightning/trainer/call.py:48: UserWarning: Detected KeyboardInterrupt, attempting graceful shutdown...\n",
      "  rank_zero_warn(\"Detected KeyboardInterrupt, attempting graceful shutdown...\")\n",
      "LOCAL_RANK: 0 - CUDA_VISIBLE_DEVICES: [0,1]\n",
      "/home/vtenorio/.local/lib/python3.8/site-packages/pytorch_lightning/trainer/connectors/data_connector.py:224: PossibleUserWarning: The dataloader, test_dataloader 0, does not have many workers which may be a bottleneck. Consider increasing the value of the `num_workers` argument` (try 128 which is the number of cpus on this machine) in the `DataLoader` init to improve performance.\n",
      "  rank_zero_warn(\n"
     ]
    },
    {
     "data": {
      "application/vnd.jupyter.widget-view+json": {
       "model_id": "f565ee92f88a4c789fea42086d16867f",
       "version_major": 2,
       "version_minor": 0
      },
      "text/plain": [
       "Testing: 0it [00:00, ?it/s]"
      ]
     },
     "metadata": {},
     "output_type": "display_data"
    },
    {
     "data": {
      "text/html": [
       "<pre style=\"white-space:pre;overflow-x:auto;line-height:normal;font-family:Menlo,'DejaVu Sans Mono',consolas,'Courier New',monospace\">┏━━━━━━━━━━━━━━━━━━━━━━━━━━━┳━━━━━━━━━━━━━━━━━━━━━━━━━━━┓\n",
       "┃<span style=\"font-weight: bold\">        Test metric        </span>┃<span style=\"font-weight: bold\">       DataLoader 0        </span>┃\n",
       "┡━━━━━━━━━━━━━━━━━━━━━━━━━━━╇━━━━━━━━━━━━━━━━━━━━━━━━━━━┩\n",
       "│<span style=\"color: #008080; text-decoration-color: #008080\">         test_mse          </span>│<span style=\"color: #800080; text-decoration-color: #800080\">   7.000828918535262e-05   </span>│\n",
       "│<span style=\"color: #008080; text-decoration-color: #008080\">         test_rmse         </span>│<span style=\"color: #800080; text-decoration-color: #800080\">   0.007919149473309517    </span>│\n",
       "└───────────────────────────┴───────────────────────────┘\n",
       "</pre>\n"
      ],
      "text/plain": [
       "┏━━━━━━━━━━━━━━━━━━━━━━━━━━━┳━━━━━━━━━━━━━━━━━━━━━━━━━━━┓\n",
       "┃\u001b[1m \u001b[0m\u001b[1m       Test metric       \u001b[0m\u001b[1m \u001b[0m┃\u001b[1m \u001b[0m\u001b[1m      DataLoader 0       \u001b[0m\u001b[1m \u001b[0m┃\n",
       "┡━━━━━━━━━━━━━━━━━━━━━━━━━━━╇━━━━━━━━━━━━━━━━━━━━━━━━━━━┩\n",
       "│\u001b[36m \u001b[0m\u001b[36m        test_mse         \u001b[0m\u001b[36m \u001b[0m│\u001b[35m \u001b[0m\u001b[35m  7.000828918535262e-05  \u001b[0m\u001b[35m \u001b[0m│\n",
       "│\u001b[36m \u001b[0m\u001b[36m        test_rmse        \u001b[0m\u001b[36m \u001b[0m│\u001b[35m \u001b[0m\u001b[35m  0.007919149473309517   \u001b[0m\u001b[35m \u001b[0m│\n",
       "└───────────────────────────┴───────────────────────────┘\n"
      ]
     },
     "metadata": {},
     "output_type": "display_data"
    },
    {
     "name": "stderr",
     "output_type": "stream",
     "text": [
      "LOCAL_RANK: 0 - CUDA_VISIBLE_DEVICES: [0,1]\n",
      "/home/vtenorio/.local/lib/python3.8/site-packages/pytorch_lightning/trainer/connectors/data_connector.py:224: PossibleUserWarning: The dataloader, predict_dataloader 0, does not have many workers which may be a bottleneck. Consider increasing the value of the `num_workers` argument` (try 128 which is the number of cpus on this machine) in the `DataLoader` init to improve performance.\n",
      "  rank_zero_warn(\n"
     ]
    },
    {
     "data": {
      "application/vnd.jupyter.widget-view+json": {
       "model_id": "7307f838ea744c179bcb64d459b8cd94",
       "version_major": 2,
       "version_minor": 0
      },
      "text/plain": [
       "Predicting: 412it [00:00, ?it/s]"
      ]
     },
     "metadata": {},
     "output_type": "display_data"
    }
   ],
   "source": [
    "build_params= {'norm': 'both'}\n",
    "y_hat_io = test_model(in_dim, 32, out_dim, N_coarse, N_fine, 2, 4, \"linear\", -1, \"IOGCN\", build_params, \"TestingForFigure\")"
   ]
  },
  {
   "cell_type": "code",
   "execution_count": 51,
   "metadata": {
    "tags": []
   },
   "outputs": [
    {
     "name": "stderr",
     "output_type": "stream",
     "text": [
      "GPU available: True (cuda), used: True\n",
      "TPU available: False, using: 0 TPU cores\n",
      "IPU available: False, using: 0 IPUs\n",
      "HPU available: False, using: 0 HPUs\n",
      "LOCAL_RANK: 0 - CUDA_VISIBLE_DEVICES: [0,1]\n",
      "\n",
      "  | Name    | Type    | Params\n",
      "------------------------------------\n",
      "0 | model   | IOMLP   | 4.1 M \n",
      "1 | loss_fn | MSELoss | 0     \n",
      "------------------------------------\n",
      "4.1 M     Trainable params\n",
      "0         Non-trainable params\n",
      "4.1 M     Total params\n",
      "16.579    Total estimated model params size (MB)\n"
     ]
    },
    {
     "data": {
      "application/vnd.jupyter.widget-view+json": {
       "model_id": "",
       "version_major": 2,
       "version_minor": 0
      },
      "text/plain": [
       "Sanity Checking: 0it [00:00, ?it/s]"
      ]
     },
     "metadata": {},
     "output_type": "display_data"
    },
    {
     "data": {
      "application/vnd.jupyter.widget-view+json": {
       "model_id": "385e621ebaf74b6695ec3ed2271d3f6d",
       "version_major": 2,
       "version_minor": 0
      },
      "text/plain": [
       "Training: 0it [00:00, ?it/s]"
      ]
     },
     "metadata": {},
     "output_type": "display_data"
    },
    {
     "data": {
      "application/vnd.jupyter.widget-view+json": {
       "model_id": "",
       "version_major": 2,
       "version_minor": 0
      },
      "text/plain": [
       "Validation: 0it [00:00, ?it/s]"
      ]
     },
     "metadata": {},
     "output_type": "display_data"
    },
    {
     "data": {
      "application/vnd.jupyter.widget-view+json": {
       "model_id": "",
       "version_major": 2,
       "version_minor": 0
      },
      "text/plain": [
       "Validation: 0it [00:00, ?it/s]"
      ]
     },
     "metadata": {},
     "output_type": "display_data"
    },
    {
     "data": {
      "application/vnd.jupyter.widget-view+json": {
       "model_id": "",
       "version_major": 2,
       "version_minor": 0
      },
      "text/plain": [
       "Validation: 0it [00:00, ?it/s]"
      ]
     },
     "metadata": {},
     "output_type": "display_data"
    },
    {
     "data": {
      "application/vnd.jupyter.widget-view+json": {
       "model_id": "",
       "version_major": 2,
       "version_minor": 0
      },
      "text/plain": [
       "Validation: 0it [00:00, ?it/s]"
      ]
     },
     "metadata": {},
     "output_type": "display_data"
    },
    {
     "data": {
      "application/vnd.jupyter.widget-view+json": {
       "model_id": "",
       "version_major": 2,
       "version_minor": 0
      },
      "text/plain": [
       "Validation: 0it [00:00, ?it/s]"
      ]
     },
     "metadata": {},
     "output_type": "display_data"
    },
    {
     "data": {
      "application/vnd.jupyter.widget-view+json": {
       "model_id": "",
       "version_major": 2,
       "version_minor": 0
      },
      "text/plain": [
       "Validation: 0it [00:00, ?it/s]"
      ]
     },
     "metadata": {},
     "output_type": "display_data"
    },
    {
     "data": {
      "application/vnd.jupyter.widget-view+json": {
       "model_id": "",
       "version_major": 2,
       "version_minor": 0
      },
      "text/plain": [
       "Validation: 0it [00:00, ?it/s]"
      ]
     },
     "metadata": {},
     "output_type": "display_data"
    },
    {
     "data": {
      "application/vnd.jupyter.widget-view+json": {
       "model_id": "",
       "version_major": 2,
       "version_minor": 0
      },
      "text/plain": [
       "Validation: 0it [00:00, ?it/s]"
      ]
     },
     "metadata": {},
     "output_type": "display_data"
    },
    {
     "data": {
      "application/vnd.jupyter.widget-view+json": {
       "model_id": "",
       "version_major": 2,
       "version_minor": 0
      },
      "text/plain": [
       "Validation: 0it [00:00, ?it/s]"
      ]
     },
     "metadata": {},
     "output_type": "display_data"
    },
    {
     "data": {
      "application/vnd.jupyter.widget-view+json": {
       "model_id": "",
       "version_major": 2,
       "version_minor": 0
      },
      "text/plain": [
       "Validation: 0it [00:00, ?it/s]"
      ]
     },
     "metadata": {},
     "output_type": "display_data"
    },
    {
     "data": {
      "application/vnd.jupyter.widget-view+json": {
       "model_id": "",
       "version_major": 2,
       "version_minor": 0
      },
      "text/plain": [
       "Validation: 0it [00:00, ?it/s]"
      ]
     },
     "metadata": {},
     "output_type": "display_data"
    },
    {
     "data": {
      "application/vnd.jupyter.widget-view+json": {
       "model_id": "",
       "version_major": 2,
       "version_minor": 0
      },
      "text/plain": [
       "Validation: 0it [00:00, ?it/s]"
      ]
     },
     "metadata": {},
     "output_type": "display_data"
    },
    {
     "data": {
      "application/vnd.jupyter.widget-view+json": {
       "model_id": "",
       "version_major": 2,
       "version_minor": 0
      },
      "text/plain": [
       "Validation: 0it [00:00, ?it/s]"
      ]
     },
     "metadata": {},
     "output_type": "display_data"
    },
    {
     "data": {
      "application/vnd.jupyter.widget-view+json": {
       "model_id": "",
       "version_major": 2,
       "version_minor": 0
      },
      "text/plain": [
       "Validation: 0it [00:00, ?it/s]"
      ]
     },
     "metadata": {},
     "output_type": "display_data"
    },
    {
     "data": {
      "application/vnd.jupyter.widget-view+json": {
       "model_id": "",
       "version_major": 2,
       "version_minor": 0
      },
      "text/plain": [
       "Validation: 0it [00:00, ?it/s]"
      ]
     },
     "metadata": {},
     "output_type": "display_data"
    },
    {
     "data": {
      "application/vnd.jupyter.widget-view+json": {
       "model_id": "",
       "version_major": 2,
       "version_minor": 0
      },
      "text/plain": [
       "Validation: 0it [00:00, ?it/s]"
      ]
     },
     "metadata": {},
     "output_type": "display_data"
    },
    {
     "data": {
      "application/vnd.jupyter.widget-view+json": {
       "model_id": "",
       "version_major": 2,
       "version_minor": 0
      },
      "text/plain": [
       "Validation: 0it [00:00, ?it/s]"
      ]
     },
     "metadata": {},
     "output_type": "display_data"
    },
    {
     "data": {
      "application/vnd.jupyter.widget-view+json": {
       "model_id": "",
       "version_major": 2,
       "version_minor": 0
      },
      "text/plain": [
       "Validation: 0it [00:00, ?it/s]"
      ]
     },
     "metadata": {},
     "output_type": "display_data"
    },
    {
     "data": {
      "application/vnd.jupyter.widget-view+json": {
       "model_id": "",
       "version_major": 2,
       "version_minor": 0
      },
      "text/plain": [
       "Validation: 0it [00:00, ?it/s]"
      ]
     },
     "metadata": {},
     "output_type": "display_data"
    },
    {
     "data": {
      "application/vnd.jupyter.widget-view+json": {
       "model_id": "",
       "version_major": 2,
       "version_minor": 0
      },
      "text/plain": [
       "Validation: 0it [00:00, ?it/s]"
      ]
     },
     "metadata": {},
     "output_type": "display_data"
    },
    {
     "data": {
      "application/vnd.jupyter.widget-view+json": {
       "model_id": "",
       "version_major": 2,
       "version_minor": 0
      },
      "text/plain": [
       "Validation: 0it [00:00, ?it/s]"
      ]
     },
     "metadata": {},
     "output_type": "display_data"
    },
    {
     "data": {
      "application/vnd.jupyter.widget-view+json": {
       "model_id": "",
       "version_major": 2,
       "version_minor": 0
      },
      "text/plain": [
       "Validation: 0it [00:00, ?it/s]"
      ]
     },
     "metadata": {},
     "output_type": "display_data"
    },
    {
     "data": {
      "application/vnd.jupyter.widget-view+json": {
       "model_id": "",
       "version_major": 2,
       "version_minor": 0
      },
      "text/plain": [
       "Validation: 0it [00:00, ?it/s]"
      ]
     },
     "metadata": {},
     "output_type": "display_data"
    },
    {
     "data": {
      "application/vnd.jupyter.widget-view+json": {
       "model_id": "",
       "version_major": 2,
       "version_minor": 0
      },
      "text/plain": [
       "Validation: 0it [00:00, ?it/s]"
      ]
     },
     "metadata": {},
     "output_type": "display_data"
    },
    {
     "data": {
      "application/vnd.jupyter.widget-view+json": {
       "model_id": "",
       "version_major": 2,
       "version_minor": 0
      },
      "text/plain": [
       "Validation: 0it [00:00, ?it/s]"
      ]
     },
     "metadata": {},
     "output_type": "display_data"
    },
    {
     "data": {
      "application/vnd.jupyter.widget-view+json": {
       "model_id": "",
       "version_major": 2,
       "version_minor": 0
      },
      "text/plain": [
       "Validation: 0it [00:00, ?it/s]"
      ]
     },
     "metadata": {},
     "output_type": "display_data"
    },
    {
     "data": {
      "application/vnd.jupyter.widget-view+json": {
       "model_id": "",
       "version_major": 2,
       "version_minor": 0
      },
      "text/plain": [
       "Validation: 0it [00:00, ?it/s]"
      ]
     },
     "metadata": {},
     "output_type": "display_data"
    },
    {
     "data": {
      "application/vnd.jupyter.widget-view+json": {
       "model_id": "",
       "version_major": 2,
       "version_minor": 0
      },
      "text/plain": [
       "Validation: 0it [00:00, ?it/s]"
      ]
     },
     "metadata": {},
     "output_type": "display_data"
    },
    {
     "data": {
      "application/vnd.jupyter.widget-view+json": {
       "model_id": "",
       "version_major": 2,
       "version_minor": 0
      },
      "text/plain": [
       "Validation: 0it [00:00, ?it/s]"
      ]
     },
     "metadata": {},
     "output_type": "display_data"
    },
    {
     "data": {
      "application/vnd.jupyter.widget-view+json": {
       "model_id": "",
       "version_major": 2,
       "version_minor": 0
      },
      "text/plain": [
       "Validation: 0it [00:00, ?it/s]"
      ]
     },
     "metadata": {},
     "output_type": "display_data"
    },
    {
     "data": {
      "application/vnd.jupyter.widget-view+json": {
       "model_id": "",
       "version_major": 2,
       "version_minor": 0
      },
      "text/plain": [
       "Validation: 0it [00:00, ?it/s]"
      ]
     },
     "metadata": {},
     "output_type": "display_data"
    },
    {
     "data": {
      "application/vnd.jupyter.widget-view+json": {
       "model_id": "",
       "version_major": 2,
       "version_minor": 0
      },
      "text/plain": [
       "Validation: 0it [00:00, ?it/s]"
      ]
     },
     "metadata": {},
     "output_type": "display_data"
    },
    {
     "data": {
      "application/vnd.jupyter.widget-view+json": {
       "model_id": "",
       "version_major": 2,
       "version_minor": 0
      },
      "text/plain": [
       "Validation: 0it [00:00, ?it/s]"
      ]
     },
     "metadata": {},
     "output_type": "display_data"
    },
    {
     "data": {
      "application/vnd.jupyter.widget-view+json": {
       "model_id": "",
       "version_major": 2,
       "version_minor": 0
      },
      "text/plain": [
       "Validation: 0it [00:00, ?it/s]"
      ]
     },
     "metadata": {},
     "output_type": "display_data"
    },
    {
     "data": {
      "application/vnd.jupyter.widget-view+json": {
       "model_id": "",
       "version_major": 2,
       "version_minor": 0
      },
      "text/plain": [
       "Validation: 0it [00:00, ?it/s]"
      ]
     },
     "metadata": {},
     "output_type": "display_data"
    },
    {
     "data": {
      "application/vnd.jupyter.widget-view+json": {
       "model_id": "",
       "version_major": 2,
       "version_minor": 0
      },
      "text/plain": [
       "Validation: 0it [00:00, ?it/s]"
      ]
     },
     "metadata": {},
     "output_type": "display_data"
    },
    {
     "data": {
      "application/vnd.jupyter.widget-view+json": {
       "model_id": "",
       "version_major": 2,
       "version_minor": 0
      },
      "text/plain": [
       "Validation: 0it [00:00, ?it/s]"
      ]
     },
     "metadata": {},
     "output_type": "display_data"
    },
    {
     "data": {
      "application/vnd.jupyter.widget-view+json": {
       "model_id": "",
       "version_major": 2,
       "version_minor": 0
      },
      "text/plain": [
       "Validation: 0it [00:00, ?it/s]"
      ]
     },
     "metadata": {},
     "output_type": "display_data"
    },
    {
     "data": {
      "application/vnd.jupyter.widget-view+json": {
       "model_id": "",
       "version_major": 2,
       "version_minor": 0
      },
      "text/plain": [
       "Validation: 0it [00:00, ?it/s]"
      ]
     },
     "metadata": {},
     "output_type": "display_data"
    },
    {
     "data": {
      "application/vnd.jupyter.widget-view+json": {
       "model_id": "",
       "version_major": 2,
       "version_minor": 0
      },
      "text/plain": [
       "Validation: 0it [00:00, ?it/s]"
      ]
     },
     "metadata": {},
     "output_type": "display_data"
    },
    {
     "data": {
      "application/vnd.jupyter.widget-view+json": {
       "model_id": "",
       "version_major": 2,
       "version_minor": 0
      },
      "text/plain": [
       "Validation: 0it [00:00, ?it/s]"
      ]
     },
     "metadata": {},
     "output_type": "display_data"
    },
    {
     "data": {
      "application/vnd.jupyter.widget-view+json": {
       "model_id": "",
       "version_major": 2,
       "version_minor": 0
      },
      "text/plain": [
       "Validation: 0it [00:00, ?it/s]"
      ]
     },
     "metadata": {},
     "output_type": "display_data"
    },
    {
     "data": {
      "application/vnd.jupyter.widget-view+json": {
       "model_id": "",
       "version_major": 2,
       "version_minor": 0
      },
      "text/plain": [
       "Validation: 0it [00:00, ?it/s]"
      ]
     },
     "metadata": {},
     "output_type": "display_data"
    },
    {
     "data": {
      "application/vnd.jupyter.widget-view+json": {
       "model_id": "",
       "version_major": 2,
       "version_minor": 0
      },
      "text/plain": [
       "Validation: 0it [00:00, ?it/s]"
      ]
     },
     "metadata": {},
     "output_type": "display_data"
    },
    {
     "data": {
      "application/vnd.jupyter.widget-view+json": {
       "model_id": "",
       "version_major": 2,
       "version_minor": 0
      },
      "text/plain": [
       "Validation: 0it [00:00, ?it/s]"
      ]
     },
     "metadata": {},
     "output_type": "display_data"
    },
    {
     "data": {
      "application/vnd.jupyter.widget-view+json": {
       "model_id": "",
       "version_major": 2,
       "version_minor": 0
      },
      "text/plain": [
       "Validation: 0it [00:00, ?it/s]"
      ]
     },
     "metadata": {},
     "output_type": "display_data"
    },
    {
     "data": {
      "application/vnd.jupyter.widget-view+json": {
       "model_id": "",
       "version_major": 2,
       "version_minor": 0
      },
      "text/plain": [
       "Validation: 0it [00:00, ?it/s]"
      ]
     },
     "metadata": {},
     "output_type": "display_data"
    },
    {
     "data": {
      "application/vnd.jupyter.widget-view+json": {
       "model_id": "8bb1b141b00e4e1bbde8f6ca8c8bc869",
       "version_major": 2,
       "version_minor": 0
      },
      "text/plain": [
       "Validation: 0it [00:00, ?it/s]"
      ]
     },
     "metadata": {},
     "output_type": "display_data"
    },
    {
     "data": {
      "application/vnd.jupyter.widget-view+json": {
       "model_id": "2fa6ba4549e04288ba30abf6deab1c9c",
       "version_major": 2,
       "version_minor": 0
      },
      "text/plain": [
       "Validation: 0it [00:00, ?it/s]"
      ]
     },
     "metadata": {},
     "output_type": "display_data"
    },
    {
     "name": "stderr",
     "output_type": "stream",
     "text": [
      "LOCAL_RANK: 0 - CUDA_VISIBLE_DEVICES: [0,1]\n"
     ]
    },
    {
     "data": {
      "application/vnd.jupyter.widget-view+json": {
       "model_id": "69af124daac1427f9a674c5b2b9211a2",
       "version_major": 2,
       "version_minor": 0
      },
      "text/plain": [
       "Predicting: 357it [00:00, ?it/s]"
      ]
     },
     "metadata": {},
     "output_type": "display_data"
    }
   ],
   "source": [
    "iomlp_model = IOMLP(in_dim, hid_dim, out_dim, N_coarse, N_fine, n_layers, [], method, nonlin=nonlin_fn)\n",
    "y_hat_iomlp = test_model(iomlp_model, \"IOMLP\")\n",
    "#y_hat_iomlp = iomlp_model(gx, gy, x_test).squeeze().cpu().detach().numpy()"
   ]
  },
  {
   "cell_type": "markdown",
   "metadata": {},
   "source": [
    "# Representation"
   ]
  },
  {
   "cell_type": "code",
   "execution_count": 26,
   "metadata": {},
   "outputs": [],
   "source": [
    "nodes, edges, elems, marker_dict = get_mesh_graph(f\"mydata/fine_data/mesh_NACA0012_fine.su2\")"
   ]
  },
  {
   "cell_type": "code",
   "execution_count": 27,
   "metadata": {},
   "outputs": [
    {
     "data": {
      "text/plain": [
       "(-1.0, 1.0)"
      ]
     },
     "execution_count": 27,
     "metadata": {},
     "output_type": "execute_result"
    },
    {
     "data": {
      "image/png": "[encoded data removed]",
      "text/plain": [
       "<Figure size 640x480 with 2 Axes>"
      ]
     },
     "metadata": {},
     "output_type": "display_data"
    }
   ],
   "source": [
    "elems_list = sum(elems, [])\n",
    "tris, _ = quad2tri(elems_list)\n",
    "tris = np.array(tris)\n",
    "x, y = nodes[:,0], nodes[:,1]\n",
    "field = y_test[0,:,0].cpu().numpy()\n",
    "\n",
    "fig = plt.figure()\n",
    "plt.tripcolor(x, y, tris, field)\n",
    "plt.colorbar()\n",
    "\n",
    "plt.xlim(left=-0.5, right=1.5)\n",
    "plt.ylim(bottom=-1, top=1)"
   ]
  },
  {
   "cell_type": "code",
   "execution_count": 28,
   "metadata": {},
   "outputs": [
    {
     "data": {
      "text/plain": [
       "Text(0.5, 1.0, 'IOGCN Prediction')"
      ]
     },
     "execution_count": 28,
     "metadata": {},
     "output_type": "execute_result"
    },
    {
     "data": {
      "image/png": "[encoded data removed]",
      "text/plain": [
       "<Figure size 1500x400 with 3 Axes>"
      ]
     },
     "metadata": {},
     "output_type": "display_data"
    }
   ],
   "source": [
    "field_gt = y_test[0,:,0].cpu().numpy()\n",
    "field_io = y_hat_io[0][0,:,0]\n",
    "\n",
    "fig, ax = plt.subplots(1, 2, figsize=(15,4))\n",
    "im0 = ax[0].tripcolor(x, y, tris, field_gt)\n",
    "im1 = ax[1].tripcolor(x, y, tris, field_io)\n",
    "\n",
    "fig.colorbar(im1)\n",
    "\n",
    "ax[0].set_xlim(left=-0.5, right=1.5)\n",
    "ax[1].set_xlim(left=-0.5, right=1.5)\n",
    "ax[0].set_ylim(bottom=-0.5, top=0.5)\n",
    "ax[1].set_ylim(bottom=-0.5, top=0.5)\n",
    "\n",
    "ax[0].set_title(\"Ground Truth\", fontsize=24)\n",
    "ax[1].set_title(\"IOGCN Prediction\", fontsize=24)"
   ]
  },
  {
   "cell_type": "code",
   "execution_count": 29,
   "metadata": {},
   "outputs": [
    {
     "data": {
      "text/plain": [
       "(-1.0, 1.0)"
      ]
     },
     "execution_count": 29,
     "metadata": {},
     "output_type": "execute_result"
    },
    {
     "data": {
      "image/png": "[encoded data removed]",
      "text/plain": [
       "<Figure size 640x480 with 2 Axes>"
      ]
     },
     "metadata": {},
     "output_type": "display_data"
    }
   ],
   "source": [
    "elems_list = sum(elems, [])\n",
    "tris, _ = quad2tri(elems_list)\n",
    "tris = np.array(tris)\n",
    "x, y = nodes[:,0], nodes[:,1]\n",
    "field = y_hat_io[0][0,:,0]\n",
    "\n",
    "fig = plt.figure()\n",
    "plt.tripcolor(x, y, tris, field)\n",
    "plt.colorbar()\n",
    "\n",
    "plt.xlim(left=-0.5, right=1.5)\n",
    "plt.ylim(bottom=-1, top=1)"
   ]
  },
  {
   "cell_type": "code",
   "execution_count": null,
   "metadata": {},
   "outputs": [],
   "source": []
  }
 ],
 "metadata": {
  "kernelspec": {
   "display_name": "Python 3",
   "language": "python",
   "name": "python3"
  },
  "language_info": {
   "codemirror_mode": {
    "name": "ipython",
    "version": 3
   },
   "file_extension": ".py",
   "mimetype": "text/x-python",
   "name": "python",
   "nbconvert_exporter": "python",
   "pygments_lexer": "ipython3",
   "version": "3.8.10"
  }
 },
 "nbformat": 4,
 "nbformat_minor": 4
}
