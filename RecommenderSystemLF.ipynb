{
 "cells": [
  {
   "cell_type": "code",
   "execution_count": 1,
   "id": "7d7b5834",
   "metadata": {},
   "outputs": [],
   "source": [
    "from dgl.data import MovieLensDataset\n",
    "\n",
    "import torch\n",
    "import numpy as np\n",
    "import matplotlib.pyplot as plt\n",
    "import dgl\n",
    "import torch.nn as nn\n",
    "import torch.nn.functional as F\n",
    "\n",
    "from sklearn.neighbors import kneighbors_graph\n",
    "import pandas as pd\n",
    "\n",
    "import time\n",
    "import yaml"
   ]
  },
  {
   "cell_type": "code",
   "execution_count": 2,
   "id": "cbdd3f46",
   "metadata": {},
   "outputs": [],
   "source": [
    "device = torch.device('cuda:0' if torch.cuda.is_available() else 'cpu')\n",
    "assert torch.cuda.is_available()"
   ]
  },
  {
   "cell_type": "code",
   "execution_count": 3,
   "id": "190689ed",
   "metadata": {},
   "outputs": [],
   "source": [
    "def get_timestamp():\n",
    "    return time.strftime(\"%Y%m%d-%H%M%S\")"
   ]
  },
  {
   "cell_type": "markdown",
   "id": "e958931f",
   "metadata": {},
   "source": [
    "# Data preparation"
   ]
  },
  {
   "cell_type": "code",
   "execution_count": 4,
   "id": "731f7f5c",
   "metadata": {},
   "outputs": [
    {
     "name": "stderr",
     "output_type": "stream",
     "text": [
      "/home/vtenorio/.local/lib/python3.12/site-packages/dgl/data/movielens.py:201: DGLWarning: test_ratio (0.1) is not set to None for ml-100k. Note that dataset split would not be affected by the test_ratio since testing samples of ml-100k have been pre-specified.\n",
      "  dgl_warning(\n"
     ]
    }
   ],
   "source": [
    "dataset = MovieLensDataset(name=\"ml-100k\", valid_ratio=0.1, test_ratio=0.1)"
   ]
  },
  {
   "cell_type": "code",
   "execution_count": 5,
   "id": "1739e6b2",
   "metadata": {},
   "outputs": [
    {
     "data": {
      "text/plain": [
       "Graph(num_nodes={'movie': 1682, 'user': 943},\n",
       "      num_edges={('movie', 'movie-user', 'user'): 100000, ('user', 'user-movie', 'movie'): 100000},\n",
       "      metagraph=[('movie', 'user', 'movie-user'), ('user', 'movie', 'user-movie')])"
      ]
     },
     "execution_count": 5,
     "metadata": {},
     "output_type": "execute_result"
    }
   ],
   "source": [
    "g = dataset[0]\n",
    "g"
   ]
  },
  {
   "cell_type": "code",
   "execution_count": 6,
   "id": "57790276",
   "metadata": {},
   "outputs": [
    {
     "data": {
      "text/plain": [
       "(943, 1682, 100000)"
      ]
     },
     "execution_count": 6,
     "metadata": {},
     "output_type": "execute_result"
    }
   ],
   "source": [
    "Nu = g.num_nodes(ntype='user')\n",
    "Ni = g.num_nodes(ntype='movie')\n",
    "Ne = g.num_edges(etype='user-movie')\n",
    "Nu, Ni, Ne"
   ]
  },
  {
   "cell_type": "code",
   "execution_count": 7,
   "id": "a444cd14",
   "metadata": {},
   "outputs": [
    {
     "data": {
      "text/plain": [
       "tensor(3.5299)"
      ]
     },
     "execution_count": 7,
     "metadata": {},
     "output_type": "execute_result"
    }
   ],
   "source": [
    "rate = g.edges['user-movie'].data['rate']\n",
    "mean_rate = rate.mean()\n",
    "rate_norm = rate.float() - mean_rate\n",
    "mean_rate\n",
    "#rate_norm = rate_norm / rate_norm.std()"
   ]
  },
  {
   "cell_type": "code",
   "execution_count": 8,
   "id": "02ef584f",
   "metadata": {},
   "outputs": [
    {
     "data": {
      "text/plain": [
       "(tensor(942), tensor(1681))"
      ]
     },
     "execution_count": 8,
     "metadata": {},
     "output_type": "execute_result"
    }
   ],
   "source": [
    "user_movie_edges = g.edges(etype='user-movie')\n",
    "user_movie_edges[0].max(), user_movie_edges[1].max()"
   ]
  },
  {
   "cell_type": "code",
   "execution_count": 9,
   "id": "1d1a8df6",
   "metadata": {},
   "outputs": [],
   "source": [
    "train_mask = g.edges['user-movie'].data['train_mask']\n",
    "val_mask = g.edges['user-movie'].data['valid_mask']\n",
    "test_mask = g.edges['user-movie'].data['test_mask']\n",
    "assert train_mask.sum() + val_mask.sum() + test_mask.sum() == Ne\n",
    "assert train_mask.shape[0] == val_mask.shape[0] == test_mask.shape[0] == Ne"
   ]
  },
  {
   "cell_type": "code",
   "execution_count": 10,
   "id": "87383a34",
   "metadata": {},
   "outputs": [
    {
     "data": {
      "text/plain": [
       "tensor(100000)"
      ]
     },
     "execution_count": 10,
     "metadata": {},
     "output_type": "execute_result"
    }
   ],
   "source": [
    "train_mask.sum() + val_mask.sum() + test_mask.sum()"
   ]
  },
  {
   "cell_type": "code",
   "execution_count": 11,
   "id": "8bf9a551",
   "metadata": {},
   "outputs": [],
   "source": [
    "train_ratings = rate[train_mask]\n",
    "val_ratings = rate[val_mask]\n",
    "test_ratings = rate[test_mask]"
   ]
  },
  {
   "cell_type": "code",
   "execution_count": 12,
   "id": "783dff46",
   "metadata": {},
   "outputs": [
    {
     "data": {
      "text/plain": [
       "(tensor(72000), tensor(8000), tensor(20000))"
      ]
     },
     "execution_count": 12,
     "metadata": {},
     "output_type": "execute_result"
    }
   ],
   "source": [
    "train_mask_mat = torch.zeros(Nu, Ni, dtype=torch.bool)\n",
    "val_mask_mat = torch.zeros(Nu, Ni, dtype=torch.bool)\n",
    "test_mask_mat = torch.zeros(Nu, Ni, dtype=torch.bool)\n",
    "\n",
    "rate_mat = torch.zeros(Nu, Ni)\n",
    "for j in range(Ne):\n",
    "    u, i = user_movie_edges[0][j], user_movie_edges[1][j]\n",
    "    rate_mat[u, i] = rate_norm[j]\n",
    "    train_mask_mat[u, i] = train_mask[j]\n",
    "    val_mask_mat[u, i] = val_mask[j]\n",
    "    test_mask_mat[u, i] = test_mask[j]\n",
    "train_mask_mat.sum(), val_mask_mat.sum(), test_mask_mat.sum()"
   ]
  },
  {
   "cell_type": "code",
   "execution_count": 13,
   "id": "82d6eaaf",
   "metadata": {},
   "outputs": [
    {
     "data": {
      "text/plain": [
       "(tensor([129,  59, 449,  ..., 458, 459, 461]),\n",
       " tensor([793, 433, 714,  ..., 933,   9, 681]))"
      ]
     },
     "execution_count": 13,
     "metadata": {},
     "output_type": "execute_result"
    }
   ],
   "source": [
    "user_movie_edges"
   ]
  },
  {
   "cell_type": "code",
   "execution_count": 14,
   "id": "5747216d",
   "metadata": {},
   "outputs": [],
   "source": [
    "train_idx = [(user_movie_edges[0][j].item(), user_movie_edges[1][j].item()) for j in range(Ne) if train_mask[j]]\n",
    "val_idx = [(user_movie_edges[0][j].item(), user_movie_edges[1][j].item()) for j in range(Ne) if val_mask[j]]\n",
    "test_idx = [(user_movie_edges[0][j].item(), user_movie_edges[1][j].item()) for j in range(Ne) if test_mask[j]]"
   ]
  },
  {
   "cell_type": "code",
   "execution_count": 15,
   "id": "a12b18cb",
   "metadata": {},
   "outputs": [
    {
     "data": {
      "text/plain": [
       "(torch.Size([943, 1682]), torch.Size([1682, 943]))"
      ]
     },
     "execution_count": 15,
     "metadata": {},
     "output_type": "execute_result"
    }
   ],
   "source": [
    "feat_type = \"ratings\" # \"data\" \"ratings\"\n",
    "if feat_type == \"ratings\":\n",
    "    # Use ratings as features\n",
    "    X = rate_mat.clone().float()\n",
    "    Y = rate_mat.T.clone().float()\n",
    "    X[~train_mask_mat] = 0.\n",
    "    Y[~train_mask_mat.T] = 0.\n",
    "elif feat_type == \"data\":\n",
    "    X = g.nodes[\"user\"].data[\"feat\"]\n",
    "    Y = g.nodes[\"movie\"].data[\"feat\"]\n",
    "X.shape, Y.shape"
   ]
  },
  {
   "cell_type": "code",
   "execution_count": 16,
   "id": "7f1333b6",
   "metadata": {},
   "outputs": [],
   "source": [
    "def build_graphs(adj_type: str, gmethod: str, nneigh: int=-1, weighted: bool=False, pct_conn: float=-1.):\n",
    "    if adj_type == \"rating_sim\":\n",
    "        user_feat = rate_mat.clone()\n",
    "        item_feat = rate_mat.T.clone()\n",
    "    elif adj_type == \"feat_sim\":\n",
    "        user_feat = X.clone()\n",
    "        item_feat = Y.clone()\n",
    "\n",
    "    if gmethod == \"kneighbors\":\n",
    "        assert nneigh > 0\n",
    "        user_adj = kneighbors_graph(user_feat.cpu().numpy(), nneigh, mode='distance' if weighted else 'connectivity', include_self=False)\n",
    "        user_adj = torch.tensor(user_adj.toarray()).float()\n",
    "\n",
    "        item_adj = kneighbors_graph(item_feat.cpu().numpy(), nneigh, mode='distance' if weighted else 'connectivity', include_self=False)\n",
    "        item_adj = torch.tensor(item_adj.toarray()).float()\n",
    "    else:\n",
    "        assert pct_conn > 0\n",
    "        user_dists = torch.cdist(user_feat, user_feat, p=2)\n",
    "        item_dists = torch.cdist(item_feat, item_feat, p=2)\n",
    "\n",
    "        th_user = user_dists.flatten().topk(int(Nu**2 * pct_conn), largest=False)[0][-1]\n",
    "        user_adj = (user_dists <= th_user).float()\n",
    "        user_adj = user_adj - torch.eye(Nu, device=user_adj.device)\n",
    "\n",
    "        th_item = item_dists.flatten().topk(int(Ni**2 * pct_conn), largest=False)[0][-1]\n",
    "        item_adj = (item_dists <= th_item).float()\n",
    "        item_adj = item_adj - torch.eye(Ni, device=user_adj.device)\n",
    "\n",
    "    user_edge_idx = torch.nonzero(user_adj, as_tuple=False).T\n",
    "    item_edge_idx = torch.nonzero(item_adj, as_tuple=False).T\n",
    "\n",
    "    guser = dgl.graph((user_edge_idx[0], user_edge_idx[1]), num_nodes=Nu, idtype=torch.int32)\n",
    "    gitem = dgl.graph((item_edge_idx[0], item_edge_idx[1]), num_nodes=Ni, idtype=torch.int32)\n",
    "\n",
    "    return user_adj, item_adj, guser, gitem"
   ]
  },
  {
   "cell_type": "markdown",
   "id": "0ff0bd8f",
   "metadata": {},
   "source": [
    "# Classes"
   ]
  },
  {
   "cell_type": "code",
   "execution_count": 17,
   "id": "691d5f7d",
   "metadata": {},
   "outputs": [],
   "source": [
    "class GCN(nn.Module):\n",
    "    def __init__(self, in_dim, hid_dim, out_dim, n_layers, nonlin):\n",
    "        super().__init__()\n",
    "\n",
    "        self.n_layers = n_layers\n",
    "        if nonlin == \"relu\":\n",
    "            self.nonlin = nn.ReLU()\n",
    "        elif nonlin == \"tanh\":\n",
    "            self.nonlin = nn.Tanh()\n",
    "        self.convs = nn.ModuleList()\n",
    "\n",
    "        if n_layers > 1:\n",
    "            self.convs.append(dgl.nn.GraphConv(in_dim, hid_dim, norm='both'))\n",
    "            for i in range(n_layers - 2):\n",
    "                self.convs.append(dgl.nn.GraphConv(hid_dim, hid_dim, norm='both'))\n",
    "            self.convs.append(dgl.nn.GraphConv(hid_dim, out_dim, norm='both'))\n",
    "        else:\n",
    "            self.convs.append(dgl.nn.GraphConv(in_dim, out_dim, norm='both'))\n",
    "\n",
    "    def forward(self, graph, x):\n",
    "\n",
    "        for i in range(self.n_layers - 1):\n",
    "            x = self.nonlin(self.convs[i](graph, x))\n",
    "        x = self.convs[-1](graph, x)\n",
    "\n",
    "        return x\n",
    "\n",
    "class GAT(nn.Module):\n",
    "    def __init__(self, in_dim, hid_dim, out_dim, n_layers, nonlin, num_heads, feat_drop, attn_drop):\n",
    "        super().__init__()\n",
    "\n",
    "        self.in_dim = in_dim\n",
    "        self.hid_dim = hid_dim\n",
    "        self.out_dim = out_dim\n",
    "        self.n_layers = n_layers\n",
    "        self.num_heads = num_heads\n",
    "        self.feat_drop = feat_drop\n",
    "        self.attn_drop = attn_drop\n",
    "        if nonlin == \"relu\":\n",
    "            self.nonlin = nn.ReLU()\n",
    "        elif nonlin == \"tanh\":\n",
    "            self.nonlin = nn.Tanh()\n",
    "        self.convs = nn.ModuleList()\n",
    "        \n",
    "        if self.n_layers > 1:\n",
    "            self.convs.append(dgl.nn.GATConv(self.in_dim, self.hid_dim, self.num_heads))\n",
    "            for i in range(self.n_layers - 2):\n",
    "                self.convs.append(dgl.nn.GATConv(self.hid_dim*self.num_heads, self.hid_dim, self.num_heads))\n",
    "            self.convs.append(dgl.nn.GATConv(self.hid_dim*self.num_heads, self.out_dim, 1))\n",
    "        else:\n",
    "            self.convs.append(dgl.nn.GATConv(self.in_dim, self.out_dim, 1))\n",
    "    \n",
    "    def forward(self, graph, x):\n",
    "        if x.ndim == 3:\n",
    "            x = x.permute(1,0,2)\n",
    "            x_shape = (x.shape[0], x.shape[1], -1)\n",
    "        else:\n",
    "            x_shape = (x.shape[0], -1)\n",
    "\n",
    "        for i in range(self.n_layers - 1):\n",
    "            x = self.nonlin(self.convs[i](graph, x)).reshape(x_shape)\n",
    "        x = self.convs[-1](graph, x).reshape(x_shape)\n",
    "\n",
    "        if x.ndim == 3:\n",
    "            return x.permute(1,0,2)\n",
    "        else:\n",
    "            return x\n",
    "\n",
    "class MLP(nn.Module):\n",
    "    def __init__(self, in_dim, hid_dim, out_dim, n_layers, nonlin=\"relu\"):\n",
    "        super().__init__()\n",
    "        self.in_dim = in_dim\n",
    "        self.hid_dim = hid_dim\n",
    "        self.out_dim = out_dim\n",
    "        self.n_layers = n_layers\n",
    "        if nonlin == \"relu\":\n",
    "            self.nonlin = nn.ReLU()\n",
    "        elif nonlin == \"tanh\":\n",
    "            self.nonlin = nn.Tanh()\n",
    "\n",
    "        self.layers = nn.ModuleList()\n",
    "\n",
    "        self.layers.append(nn.Linear(in_dim, hid_dim))\n",
    "\n",
    "        if n_layers > 1:\n",
    "            self.layers.append(nn.Linear(in_dim, hid_dim))\n",
    "            for i in range(n_layers - 2):\n",
    "                self.layers.append(nn.Linear(hid_dim, hid_dim))\n",
    "            self.layers.append(nn.Linear(hid_dim, out_dim))\n",
    "        else:\n",
    "            self.layers.append(nn.Linear(in_dim, out_dim))\n",
    "\n",
    "    def forward(self, graph, x): # Graph kept for compatibility with GCN\n",
    "\n",
    "        for i in range(self.n_layers - 1):\n",
    "            x = self.nonlin(self.layers[i](x))\n",
    "        x = self.layers[-1](x)\n",
    "\n",
    "        return x"
   ]
  },
  {
   "cell_type": "code",
   "execution_count": 18,
   "id": "cfb83efc",
   "metadata": {},
   "outputs": [],
   "source": [
    "class GCNHLayer(nn.Module):\n",
    "    def __init__(self, S, in_dim, out_dim, K):\n",
    "        super().__init__()\n",
    "\n",
    "        self.S = S\n",
    "        self.N = self.S.shape[0]\n",
    "        self.S += torch.eye(self.N, device=self.S.device)\n",
    "        self.d = self.S.sum(1)\n",
    "        self.D_inv = torch.diag(1 / torch.sqrt(self.d))\n",
    "        self.S = self.D_inv @ self.S @ self.D_inv\n",
    "\n",
    "        self.K = K\n",
    "        self.Spow = torch.zeros((self.K, self.N, self.N), device=self.S.device)\n",
    "        self.Spow[0,:,:] = torch.eye(self.N, device=self.S.device)\n",
    "        for k in range(1, self.K):\n",
    "            self.Spow[k,:,:] = self.Spow[k-1,:,:] @ self.S\n",
    "\n",
    "        self.Spow = nn.Parameter(self.Spow, requires_grad=False)\n",
    "\n",
    "        self.S = nn.Parameter(self.S, requires_grad=False)\n",
    "\n",
    "        self.in_dim = in_dim\n",
    "        self.out_dim = out_dim\n",
    "        \n",
    "        self.W = nn.Parameter(torch.empty(self.K, self.in_dim, self.out_dim))\n",
    "        nn.init.kaiming_uniform_(self.W.data)\n",
    "\n",
    "        self.bias = nn.Parameter(torch.zeros(self.out_dim))\n",
    "        nn.init.zeros_(self.bias.data)\n",
    "\n",
    "    def forward(self, x):\n",
    "        assert (self.N, self.in_dim) == x.shape\n",
    "        out = torch.zeros((self.N, self.out_dim), device=x.device)\n",
    "        for k in range(self.K):\n",
    "            out += self.Spow[k,:,:] @ x @ self.W[k,:,:]\n",
    "        return out + self.bias[None,:]\n",
    "\n",
    "class GCNH(nn.Module):\n",
    "    def __init__(self, S, in_dim, hid_dim, out_dim, K, n_layers, nonlin=\"relu\"):\n",
    "        super().__init__()\n",
    "\n",
    "        self.n_layers = n_layers\n",
    "        if nonlin == \"relu\":\n",
    "            self.nonlin = nn.ReLU()\n",
    "        elif nonlin == \"tanh\":\n",
    "            self.nonlin = nn.Tanh()\n",
    "        self.convs = nn.ModuleList()\n",
    "\n",
    "        if n_layers > 1:\n",
    "            self.convs.append(GCNHLayer(S, in_dim, hid_dim, K))\n",
    "            for i in range(n_layers - 2):\n",
    "                self.convs.append(GCNHLayer(S, hid_dim, hid_dim, K))\n",
    "            self.convs.append(GCNHLayer(S, hid_dim, out_dim, K))\n",
    "        else:\n",
    "            self.convs.append(GCNHLayer(S, in_dim, out_dim, K))\n",
    "\n",
    "\n",
    "    def forward(self, graph, x):\n",
    "\n",
    "        for i in range(self.n_layers - 1):\n",
    "            x = self.nonlin(self.convs[i](x))\n",
    "        x = self.convs[-1](x)\n",
    "\n",
    "        return x"
   ]
  },
  {
   "cell_type": "code",
   "execution_count": 19,
   "id": "07617d05",
   "metadata": {},
   "outputs": [],
   "source": [
    "class IOArch(nn.Module):\n",
    "    def __init__(self, in_dim_x, in_dim_y, hid_dim, out_dim, Nx, Ny, n_layers, nonlin):\n",
    "        super().__init__()\n",
    "        self.in_dim_x = in_dim_x\n",
    "        self.in_dim_y = in_dim_y\n",
    "        self.hid_dim = hid_dim\n",
    "        self.out_dim = out_dim\n",
    "        self.n_layers = n_layers\n",
    "        self.Nx = Nx\n",
    "        self.Ny = Ny\n",
    "        \n",
    "    def forward(self, graph1, graph2, feat_x, feat_y):\n",
    "        assert feat_x.shape[0] == self.Nx\n",
    "        Zx = self.arch_X(graph1, feat_x)\n",
    "        Zy = self.arch_Y(graph2, feat_y)\n",
    "\n",
    "        assert Zx.shape[1] == Zy.shape[1] == self.out_dim\n",
    "\n",
    "        return Zx, Zy\n",
    "    \n",
    "    def get_embeddings(self, graph1, graph2, feat_x, feat_y):\n",
    "        Zx = self.arch_X(graph1, feat_x)\n",
    "        Zy = self.arch_Y(graph2, feat_y)\n",
    "        return Zx.detach(), Zy.detach()\n",
    "    \n",
    "    def get_ratings(self, graph1, graph2, feat_x, feat_y):\n",
    "        Zx, Zy = self.get_embeddings(graph1, graph2, feat_x, feat_y)\n",
    "        return Zx @ Zy.T\n",
    "\n",
    "class IOGCN(IOArch):\n",
    "    def __init__(self, in_dim_x, in_dim_y, hid_dim, out_dim, Nx, Ny, n_layers, nonlin):\n",
    "        super().__init__(in_dim_x, in_dim_y, hid_dim, out_dim, Nx, Ny, n_layers, nonlin)\n",
    "\n",
    "        self.arch_X = GCN(in_dim_x, hid_dim, out_dim, n_layers, nonlin)\n",
    "        self.arch_Y = GCN(in_dim_y, hid_dim, out_dim, n_layers, nonlin)\n",
    "\n",
    "class IOGAT(IOArch):\n",
    "    def __init__(self, in_dim_x, in_dim_y, hid_dim, out_dim, Nx, Ny, n_layers, nonlin, num_heads, feat_drop, attn_drop):\n",
    "        super().__init__(in_dim_x, in_dim_y, hid_dim, out_dim, Nx, Ny, n_layers, nonlin)\n",
    "\n",
    "        self.arch_X = GAT(in_dim_x, hid_dim, out_dim, n_layers, nonlin, num_heads, feat_drop, attn_drop)\n",
    "        self.arch_Y = GAT(in_dim_y, hid_dim, out_dim, n_layers, nonlin, num_heads, feat_drop, attn_drop)\n",
    "\n",
    "class IOGCNH(IOArch):\n",
    "    def __init__(self, Sx, Sy, in_dim_x, in_dim_y, hid_dim, out_dim, Nx, Ny, n_layers, nonlin, K):\n",
    "        super().__init__(in_dim_x, in_dim_y, hid_dim, out_dim, Nx, Ny, n_layers, nonlin)\n",
    "\n",
    "        self.arch_X = GCNH(Sx, in_dim_x, hid_dim, out_dim, K, n_layers, nonlin)\n",
    "        self.arch_Y = GCNH(Sy, in_dim_y, hid_dim, out_dim, K, n_layers, nonlin)\n",
    "\n",
    "class IOMLP(IOArch):\n",
    "    def __init__(self, in_dim_x, in_dim_y, hid_dim, out_dim, Nx, Ny, n_layers, nonlin):\n",
    "        super().__init__(in_dim_x, in_dim_y, hid_dim, out_dim, Nx, Ny, n_layers, nonlin)\n",
    "\n",
    "        self.arch_X = MLP(in_dim_x, hid_dim, out_dim, n_layers, nonlin)\n",
    "        self.arch_Y = MLP(in_dim_y, hid_dim, out_dim, n_layers, nonlin)\n"
   ]
  },
  {
   "cell_type": "markdown",
   "id": "f6f9f7a2",
   "metadata": {},
   "source": [
    "# Training methods"
   ]
  },
  {
   "cell_type": "code",
   "execution_count": 20,
   "id": "2b559119",
   "metadata": {},
   "outputs": [],
   "source": [
    "def test(model, guser, gitem, X, Y, rate_mat,\n",
    "         train_idx, val_idx, test_idx,\n",
    "         n_epochs, patience_es, lr, wd, eval_freq, verbose=True):\n",
    "    opt = torch.optim.Adam(model.parameters(), lr=lr, weight_decay=wd)\n",
    "    min_val_loss = float(\"inf\")\n",
    "    best_model = model.state_dict()\n",
    "    patience = 0\n",
    "\n",
    "    t_start = time.time()\n",
    "    t_max = 24 * 60 * 60\n",
    "\n",
    "    losses = np.zeros(n_epochs)\n",
    "    for i in range(n_epochs):\n",
    "        model.train()\n",
    "        opt.zero_grad()\n",
    "\n",
    "        Zx, Zy = model(guser, gitem, X, Y)\n",
    "        est_ratings = Zx @ Zy.T\n",
    "\n",
    "        loss = F.mse_loss(est_ratings[train_idx], rate_mat[train_idx])\n",
    "        losses[i] = loss.item()\n",
    "\n",
    "        loss.backward()\n",
    "        opt.step()\n",
    "\n",
    "        with torch.no_grad():\n",
    "            model.eval()\n",
    "            Zx, Zy = model(guser, gitem, X, Y)\n",
    "            est_ratings = Zx @ Zy.T\n",
    "            val_loss = F.mse_loss(est_ratings[val_idx], rate_mat[val_idx])\n",
    "            test_loss = F.mse_loss(est_ratings[test_idx], rate_mat[test_idx])\n",
    "\n",
    "        if val_loss < min_val_loss:\n",
    "            min_val_loss = val_loss\n",
    "            best_model = model.state_dict()\n",
    "            best_epoch = i\n",
    "        else:\n",
    "            patience += 1\n",
    "            if patience > patience_es:\n",
    "                if verbose:\n",
    "                    print(f\"Early stopping at epoch {i + 1}\")\n",
    "                break\n",
    "\n",
    "        if time.time() - t_start > t_max:\n",
    "            if verbose:\n",
    "                print(f\"Stopping training due to timeout {i + 1}\")\n",
    "            break\n",
    "\n",
    "        if (i + 1) % eval_freq == 0 and verbose:\n",
    "            print(f\"Epoch {i + 1}/{n_epochs} - Train Loss: {loss.item()}, Validation Loss: {val_loss.item():.4f}, Test Loss: {test_loss.item():.4f}\")\n",
    "    model.load_state_dict(best_model)\n",
    "    with torch.no_grad():\n",
    "        model.eval()\n",
    "        Zx, Zy = model(guser, gitem, X, Y)\n",
    "        est_ratings = Zx @ Zy.T\n",
    "        test_loss = torch.mean((est_ratings[test_idx] - rate_mat[test_idx]) ** 2)\n",
    "    return model, test_loss.item()"
   ]
  },
  {
   "cell_type": "code",
   "execution_count": 21,
   "id": "33c654fe",
   "metadata": {},
   "outputs": [],
   "source": [
    "def low_rank_matrix_completion(\n",
    "    rate, rank,\n",
    "    train_idx, val_idx, test_idx,\n",
    "    lr=0.01, epochs=1000, patience=10, verbose=True\n",
    "    ):\n",
    "\n",
    "    \"\"\"\n",
    "    Low-rank matrix completion using gradient descent.\n",
    "\n",
    "    Args:\n",
    "        rate (torch.Tensor): A tensor of shape (Nu,Ni) containing the ratings.\n",
    "        rank (int): The rank for the low-rank approximation.\n",
    "        train_idx (torch.Tensor): Boolean tensor for training edges.\n",
    "        val_idx (torch.Tensor): Boolean tensor for validation edges.\n",
    "        test_idx (torch.Tensor): Boolean tensor for test edges.\n",
    "        lr (float): Learning rate for gradient descent.\n",
    "        epochs (int): Number of training epochs.\n",
    "        patience (int): Patience for early stopping.\n",
    "        verbose (bool): If True, print training progress.\n",
    "\n",
    "    Returns:\n",
    "        torch.Tensor: The completed Nu x Ni matrix.\n",
    "        float: The test loss (MSE) for the best model.\n",
    "    \"\"\"\n",
    "    train_ratings = rate[train_idx]\n",
    "    val_ratings = rate[val_idx]\n",
    "    test_ratings = rate[test_idx]\n",
    "\n",
    "    Nu, Ni = rate.shape\n",
    "\n",
    "    # Initialize low-rank matrices U and V\n",
    "    U = torch.randn(Nu, rank, requires_grad=True, device=device)\n",
    "    V = torch.randn(Ni, rank, requires_grad=True, device=device)\n",
    "\n",
    "    # Define optimizer\n",
    "    optimizer = torch.optim.Adam([U, V], lr=lr)\n",
    "\n",
    "    # Early stopping variables\n",
    "    best_loss = float(\"inf\")\n",
    "    best_U, best_V = None, None\n",
    "    patience_counter = 0\n",
    "\n",
    "    # Training loop\n",
    "    for epoch in range(epochs):\n",
    "        optimizer.zero_grad()\n",
    "\n",
    "        # Compute predicted ratings for known entries\n",
    "        est_ratings = U @ V.T\n",
    "\n",
    "        # Compute loss (mean squared error for known entries)\n",
    "        loss = torch.mean((est_ratings[train_idx] - train_ratings) ** 2)\n",
    "\n",
    "        # Backpropagation and optimization step\n",
    "        loss.backward()\n",
    "        optimizer.step()\n",
    "\n",
    "        # Validation loss\n",
    "        with torch.no_grad():\n",
    "            loss_val = torch.mean((est_ratings[val_idx] - val_ratings) ** 2)\n",
    "\n",
    "            # Early stopping logic\n",
    "            if loss_val.item() < best_loss:\n",
    "                best_loss = loss_val.item()\n",
    "                best_U, best_V = U.clone().detach(), V.clone().detach()\n",
    "                patience_counter = 0\n",
    "            else:\n",
    "                patience_counter += 1\n",
    "                if patience_counter > patience:\n",
    "                    if verbose:\n",
    "                        print(f\"Early stopping at epoch {epoch + 1}\")\n",
    "                    break\n",
    "\n",
    "        # Print loss every 100 epochs\n",
    "        if (epoch + 1) % 100 == 0 and verbose:\n",
    "            print(f\"Epoch {epoch + 1}/{epochs} - Train Loss: {loss.item()}, Val Loss: {loss_val.item()}\")\n",
    "\n",
    "    # Reconstruct the full matrix using the best U and V\n",
    "    completed_matrix = best_U @ best_V.T\n",
    "    test_loss = torch.mean((completed_matrix[test_idx] - test_ratings) ** 2)\n",
    "    return completed_matrix, test_loss.item()"
   ]
  },
  {
   "cell_type": "code",
   "execution_count": 22,
   "id": "1b27c299",
   "metadata": {},
   "outputs": [],
   "source": [
    "def nuclear_norm_matrix_completion(\n",
    "        rate,\n",
    "        train_idx, val_idx, test_idx,\n",
    "        lr=0.01, epochs=1000, patience=10, verbose=True\n",
    "    ):\n",
    "    \"\"\"\n",
    "    Low-rank matrix completion using nuclear norm minimization.\n",
    "\n",
    "    Args:\n",
    "        rate (torch.Tensor): A tensor of shape (Nu,Ni) containing the ratings.\n",
    "        train_idx (torch.Tensor): Boolean tensor for training edges.\n",
    "        val_idx (torch.Tensor): Boolean tensor for validation edges.\n",
    "        test_idx (torch.Tensor): Boolean tensor for test edges.\n",
    "        lr (float): Learning rate for gradient descent.\n",
    "        epochs (int): Number of training epochs.\n",
    "        patience (int): Patience for early stopping.\n",
    "        verbose (bool): If True, print training progress.\n",
    "\n",
    "    Returns:\n",
    "        torch.Tensor: The completed Nu x Ni matrix.\n",
    "        float: The test loss (MSE) for the best model.\n",
    "    \"\"\"\n",
    "    train_ratings = rate[train_idx]\n",
    "    val_ratings = rate[val_idx]\n",
    "    test_ratings = rate[test_idx]\n",
    "\n",
    "    Nu, Ni = rate.shape\n",
    "    \n",
    "    # Initialize the matrix with zeros\n",
    "    M = torch.randn(Nu, Ni, requires_grad=True, device=device)\n",
    "\n",
    "    # Define optimizer\n",
    "    optimizer = torch.optim.Adam([M], lr=lr)\n",
    "\n",
    "    # Early stopping variables\n",
    "    best_loss = float(\"inf\")\n",
    "    best_matrix = None\n",
    "    patience_counter = 0\n",
    "    t_start = time.time()\n",
    "    t_max = 24*60*60 # 1 day in seconds\n",
    "\n",
    "    # Training loop\n",
    "    for epoch in range(epochs):\n",
    "        optimizer.zero_grad()\n",
    "\n",
    "        # Compute the nuclear norm of the matrix\n",
    "        # U, S, V = torch.svd(M)  # Singular Value Decomposition\n",
    "        # loss = S.sum() # Nuclear norm as sum of singular values\n",
    "        loss = torch.norm(M, p='nuc')\n",
    "\n",
    "        # Backpropagation and optimization step\n",
    "        loss.backward()\n",
    "        optimizer.step()\n",
    "\n",
    "        # Fix the known values\n",
    "        with torch.no_grad():\n",
    "            M[train_idx] = train_ratings\n",
    "\n",
    "            predicted_val_ratings = M[val_idx]\n",
    "\n",
    "            # Compute the validation loss (MSE)\n",
    "            loss_val = torch.mean((predicted_val_ratings - val_ratings) ** 2)\n",
    "\n",
    "            # Early stopping logic\n",
    "            if loss_val.item() < best_loss:\n",
    "                best_loss = loss_val.item()\n",
    "                best_matrix = M.clone().detach()\n",
    "                patience_counter = 0\n",
    "            else:\n",
    "                patience_counter += 1\n",
    "                if patience_counter > patience:\n",
    "                    if verbose:\n",
    "                        print(f\"Early stopping at epoch {epoch + 1}\")\n",
    "                    break\n",
    "\n",
    "            if time.time() - t_start > t_max:\n",
    "                if verbose:\n",
    "                    print(f\"Stopping training due to timeout {epoch + 1}\")\n",
    "                break\n",
    "\n",
    "        # Print loss every 100 epochs\n",
    "        if (epoch + 1) % 100 == 0 and verbose:\n",
    "            print(f\"Epoch {epoch + 1}/{epochs} - Train Loss: {loss.item()}, Val Loss: {loss_val.item()}\")\n",
    "\n",
    "    M = best_matrix\n",
    "    test_loss = torch.mean((M[test_idx] - test_ratings) ** 2)\n",
    "    return M, test_loss.item()"
   ]
  },
  {
   "cell_type": "markdown",
   "id": "b9574d0d",
   "metadata": {},
   "source": [
    "# Model and Tests"
   ]
  },
  {
   "cell_type": "code",
   "execution_count": 23,
   "id": "def86075",
   "metadata": {},
   "outputs": [],
   "source": [
    "lr = 1e-4\n",
    "wd = 1e-5\n",
    "n_epochs = 10000\n",
    "patience_es = 1000\n",
    "\n",
    "in_dim_x = X.shape[1]\n",
    "in_dim_y = Y.shape[1]\n",
    "\n",
    "n_layers = 2\n",
    "hid_dim = 128\n",
    "out_dim = 4# 10\n",
    "eval_freq = 100\n",
    "nonlin = \"relu\""
   ]
  },
  {
   "cell_type": "code",
   "execution_count": 24,
   "id": "3e70fde0",
   "metadata": {},
   "outputs": [],
   "source": [
    "adj_type = \"rating_sim\" # \"rating_sim\" \"feat_sim\"\n",
    "gmethod = \"pctconn\" # \"pctconn\" \"kneighbors\"\n",
    "\n",
    "# gmethod = \"kneighbors\"\n",
    "nneigh = 5\n",
    "weighted = False\n",
    "# gmethod = \"pctconn\"\n",
    "pct_conn = 0.05\n",
    "\n",
    "user_adj, item_adj, guser, gitem = build_graphs(adj_type, gmethod, nneigh=nneigh, weighted=weighted, pct_conn=pct_conn)"
   ]
  },
  {
   "cell_type": "code",
   "execution_count": 25,
   "id": "5bb95772",
   "metadata": {},
   "outputs": [],
   "source": [
    "guser = guser.to(device).add_self_loop()\n",
    "gitem = gitem.to(device).add_self_loop()\n",
    "rate_mat = rate_mat.to(device)\n",
    "train_mask_mat = train_mask_mat.to(device)\n",
    "val_mask_mat = val_mask_mat.to(device)\n",
    "test_mask_mat = test_mask_mat.to(device)\n",
    "X = X.to(device)\n",
    "Y = Y.to(device)"
   ]
  },
  {
   "cell_type": "code",
   "execution_count": 26,
   "id": "d926d7ff",
   "metadata": {},
   "outputs": [
    {
     "name": "stdout",
     "output_type": "stream",
     "text": [
      "Epoch 100/10000 - Train Loss: 0.8716654181480408, Validation Loss: 0.9580, Test Loss: 1.0277\n",
      "Epoch 200/10000 - Train Loss: 0.7912275195121765, Validation Loss: 0.9175, Test Loss: 0.9659\n",
      "Epoch 300/10000 - Train Loss: 0.7553446292877197, Validation Loss: 0.9069, Test Loss: 0.9427\n",
      "Epoch 400/10000 - Train Loss: 0.7354403138160706, Validation Loss: 0.8990, Test Loss: 0.9320\n",
      "Epoch 500/10000 - Train Loss: 0.7226191759109497, Validation Loss: 0.8936, Test Loss: 0.9243\n",
      "Epoch 600/10000 - Train Loss: 0.713862955570221, Validation Loss: 0.8886, Test Loss: 0.9168\n",
      "Epoch 700/10000 - Train Loss: 0.7075777053833008, Validation Loss: 0.8844, Test Loss: 0.9110\n",
      "Epoch 800/10000 - Train Loss: 0.7028511166572571, Validation Loss: 0.8820, Test Loss: 0.9077\n",
      "Epoch 900/10000 - Train Loss: 0.6991255283355713, Validation Loss: 0.8810, Test Loss: 0.9065\n",
      "Epoch 1000/10000 - Train Loss: 0.6960879564285278, Validation Loss: 0.8810, Test Loss: 0.9069\n",
      "Epoch 1100/10000 - Train Loss: 0.6935553550720215, Validation Loss: 0.8818, Test Loss: 0.9082\n",
      "Epoch 1200/10000 - Train Loss: 0.6913979649543762, Validation Loss: 0.8833, Test Loss: 0.9098\n",
      "Epoch 1300/10000 - Train Loss: 0.6895266175270081, Validation Loss: 0.8854, Test Loss: 0.9116\n",
      "Epoch 1400/10000 - Train Loss: 0.6878793239593506, Validation Loss: 0.8881, Test Loss: 0.9135\n",
      "Epoch 1500/10000 - Train Loss: 0.6864213943481445, Validation Loss: 0.8912, Test Loss: 0.9156\n",
      "Epoch 1600/10000 - Train Loss: 0.6851238012313843, Validation Loss: 0.8943, Test Loss: 0.9176\n",
      "Epoch 1700/10000 - Train Loss: 0.6839547753334045, Validation Loss: 0.8974, Test Loss: 0.9196\n",
      "Epoch 1800/10000 - Train Loss: 0.6828830242156982, Validation Loss: 0.9005, Test Loss: 0.9215\n",
      "Epoch 1900/10000 - Train Loss: 0.681892454624176, Validation Loss: 0.9034, Test Loss: 0.9233\n",
      "Early stopping at epoch 1924\n"
     ]
    }
   ],
   "source": [
    "iogcn = IOGCN(in_dim_x, in_dim_y, hid_dim, out_dim, Nu, Ni, n_layers, nonlin).to(device)\n",
    "iogcn, best_test_loss_iogcn = test(iogcn, guser, gitem, X, Y, rate_mat,\n",
    "                                   train_mask_mat, val_mask_mat, test_mask_mat,\n",
    "                                   n_epochs, patience_es, lr, wd, eval_freq)\n",
    "est_ratings_iogcn = iogcn.get_ratings(guser, gitem, X, Y)[test_mask_mat]"
   ]
  },
  {
   "cell_type": "code",
   "execution_count": 27,
   "id": "db1941a1-0518-4015-919f-812e47335816",
   "metadata": {},
   "outputs": [
    {
     "name": "stdout",
     "output_type": "stream",
     "text": [
      "Epoch 100/10000 - Train Loss: 0.7806829810142517, Validation Loss: 0.9046, Test Loss: 0.9582\n",
      "Epoch 200/10000 - Train Loss: 0.7259718775749207, Validation Loss: 0.8775, Test Loss: 0.9150\n",
      "Epoch 300/10000 - Train Loss: 0.7054200172424316, Validation Loss: 0.8727, Test Loss: 0.9051\n",
      "Epoch 400/10000 - Train Loss: 0.6952139735221863, Validation Loss: 0.8738, Test Loss: 0.9030\n",
      "Epoch 500/10000 - Train Loss: 0.6894953846931458, Validation Loss: 0.8761, Test Loss: 0.9037\n",
      "Epoch 600/10000 - Train Loss: 0.6858047246932983, Validation Loss: 0.8797, Test Loss: 0.9060\n",
      "Epoch 700/10000 - Train Loss: 0.683086633682251, Validation Loss: 0.8843, Test Loss: 0.9089\n",
      "Epoch 800/10000 - Train Loss: 0.680864155292511, Validation Loss: 0.8894, Test Loss: 0.9119\n",
      "Epoch 900/10000 - Train Loss: 0.6787509918212891, Validation Loss: 0.8939, Test Loss: 0.9142\n",
      "Epoch 1000/10000 - Train Loss: 0.6769313216209412, Validation Loss: 0.8989, Test Loss: 0.9170\n",
      "Epoch 1100/10000 - Train Loss: 0.6752191185951233, Validation Loss: 0.9039, Test Loss: 0.9198\n",
      "Epoch 1200/10000 - Train Loss: 0.67402184009552, Validation Loss: 0.9074, Test Loss: 0.9217\n",
      "Early stopping at epoch 1296\n"
     ]
    }
   ],
   "source": [
    "num_heads = 8\n",
    "feat_drop = 0.4\n",
    "attn_drop = 0.4\n",
    "iogat = IOGAT(in_dim_x, in_dim_y, hid_dim, out_dim, Nu, Ni, n_layers, nonlin, num_heads, feat_drop, attn_drop).to(device)\n",
    "iogat, best_test_loss_iogat = test(iogat, guser, gitem, X, Y, rate_mat,\n",
    "                                   train_mask_mat, val_mask_mat, test_mask_mat,\n",
    "                                   n_epochs, patience_es, lr, wd, eval_freq)\n",
    "est_ratings_iogat = iogat.get_ratings(guser, gitem, X, Y)[test_mask_mat]"
   ]
  },
  {
   "cell_type": "code",
   "execution_count": 28,
   "id": "73788b4a",
   "metadata": {},
   "outputs": [
    {
     "name": "stdout",
     "output_type": "stream",
     "text": [
      "Epoch 100/10000 - Train Loss: 0.8541865348815918, Validation Loss: 0.9121, Test Loss: 0.9787\n",
      "Epoch 200/10000 - Train Loss: 0.7628817558288574, Validation Loss: 0.8782, Test Loss: 0.9272\n",
      "Epoch 300/10000 - Train Loss: 0.7221158146858215, Validation Loss: 0.8723, Test Loss: 0.9087\n",
      "Epoch 400/10000 - Train Loss: 0.6991744637489319, Validation Loss: 0.8675, Test Loss: 0.8998\n",
      "Epoch 500/10000 - Train Loss: 0.6841502785682678, Validation Loss: 0.8651, Test Loss: 0.8981\n",
      "Epoch 600/10000 - Train Loss: 0.6735299825668335, Validation Loss: 0.8655, Test Loss: 0.8992\n",
      "Epoch 700/10000 - Train Loss: 0.6656455993652344, Validation Loss: 0.8682, Test Loss: 0.9010\n",
      "Epoch 800/10000 - Train Loss: 0.6595304608345032, Validation Loss: 0.8718, Test Loss: 0.9029\n",
      "Epoch 900/10000 - Train Loss: 0.6546121835708618, Validation Loss: 0.8756, Test Loss: 0.9050\n",
      "Epoch 1000/10000 - Train Loss: 0.6505568623542786, Validation Loss: 0.8794, Test Loss: 0.9074\n",
      "Epoch 1100/10000 - Train Loss: 0.6471486687660217, Validation Loss: 0.8834, Test Loss: 0.9102\n",
      "Epoch 1200/10000 - Train Loss: 0.6442511081695557, Validation Loss: 0.8874, Test Loss: 0.9135\n",
      "Epoch 1300/10000 - Train Loss: 0.641761302947998, Validation Loss: 0.8914, Test Loss: 0.9170\n",
      "Epoch 1400/10000 - Train Loss: 0.6395984292030334, Validation Loss: 0.8955, Test Loss: 0.9210\n",
      "Epoch 1500/10000 - Train Loss: 0.6376938819885254, Validation Loss: 0.8996, Test Loss: 0.9252\n",
      "Early stopping at epoch 1538\n"
     ]
    }
   ],
   "source": [
    "iomlp = IOMLP(in_dim_x, in_dim_y, hid_dim, out_dim, Nu, Ni, n_layers, nonlin).to(device)\n",
    "iomlp, best_test_loss_iomlp = test(iomlp, guser, gitem, X, Y, rate_mat,\n",
    "                                   train_mask_mat, val_mask_mat, test_mask_mat,\n",
    "                                   n_epochs, patience_es, lr, wd, eval_freq)\n",
    "est_ratings_iomlp = iomlp.get_ratings(guser, gitem, X, Y)[test_mask_mat]"
   ]
  },
  {
   "cell_type": "code",
   "execution_count": 29,
   "id": "41ecc036",
   "metadata": {
    "scrolled": true
   },
   "outputs": [],
   "source": [
    "adj_type_iogcnh = \"rating_sim\" # \"rating_sim\" \"feat_sim\"\n",
    "gmethod_iogcnh = \"kneighbors\" # \"pctconn\" \"kneighbors\"\n",
    "\n",
    "# gmethod = \"kneighbors\"\n",
    "nneigh_iogcnh = 5\n",
    "weighted_iogcnh = True\n",
    "# gmethod = \"pctconn\"\n",
    "pct_conn_iogcnh = 0.05\n",
    "\n",
    "user_adj_iogcnh, item_adj_iogcnh, _, _ = build_graphs(adj_type_iogcnh, gmethod_iogcnh, nneigh=nneigh_iogcnh, weighted=weighted_iogcnh, pct_conn=pct_conn_iogcnh)"
   ]
  },
  {
   "cell_type": "code",
   "execution_count": 30,
   "id": "26efd27d",
   "metadata": {},
   "outputs": [],
   "source": [
    "Su = user_adj_iogcnh.to(device)\n",
    "Si = item_adj_iogcnh.to(device)\n",
    "\n",
    "out_dim_iogcnh = 64\n",
    "lr_iogcnh = 1e-5\n",
    "K = 4\n",
    "num_hidden_iogcnh = 128\n",
    "num_layers_iogcnh = 2"
   ]
  },
  {
   "cell_type": "code",
   "execution_count": 31,
   "id": "7defe7cc",
   "metadata": {},
   "outputs": [
    {
     "name": "stdout",
     "output_type": "stream",
     "text": [
      "Epoch 100/10000 - Train Loss: 1.1318947076797485, Validation Loss: 1.0934, Test Loss: 1.1951\n",
      "Epoch 200/10000 - Train Loss: 0.957709014415741, Validation Loss: 0.9568, Test Loss: 1.0155\n",
      "Epoch 300/10000 - Train Loss: 0.9089933633804321, Validation Loss: 0.9251, Test Loss: 0.9755\n",
      "Epoch 400/10000 - Train Loss: 0.8790968060493469, Validation Loss: 0.9042, Test Loss: 0.9536\n",
      "Epoch 500/10000 - Train Loss: 0.8587118983268738, Validation Loss: 0.8908, Test Loss: 0.9387\n",
      "Epoch 600/10000 - Train Loss: 0.840252697467804, Validation Loss: 0.8775, Test Loss: 0.9234\n",
      "Epoch 700/10000 - Train Loss: 0.8219967484474182, Validation Loss: 0.8638, Test Loss: 0.9067\n",
      "Epoch 800/10000 - Train Loss: 0.8058916330337524, Validation Loss: 0.8532, Test Loss: 0.8920\n",
      "Epoch 900/10000 - Train Loss: 0.7900369763374329, Validation Loss: 0.8443, Test Loss: 0.8807\n",
      "Epoch 1000/10000 - Train Loss: 0.774986982345581, Validation Loss: 0.8371, Test Loss: 0.8724\n",
      "Epoch 1100/10000 - Train Loss: 0.7609691023826599, Validation Loss: 0.8310, Test Loss: 0.8657\n",
      "Epoch 1200/10000 - Train Loss: 0.7477858066558838, Validation Loss: 0.8256, Test Loss: 0.8597\n",
      "Epoch 1300/10000 - Train Loss: 0.735831618309021, Validation Loss: 0.8210, Test Loss: 0.8550\n",
      "Epoch 1400/10000 - Train Loss: 0.7249874472618103, Validation Loss: 0.8177, Test Loss: 0.8515\n",
      "Epoch 1500/10000 - Train Loss: 0.7146723866462708, Validation Loss: 0.8151, Test Loss: 0.8488\n",
      "Epoch 1600/10000 - Train Loss: 0.7044579982757568, Validation Loss: 0.8132, Test Loss: 0.8466\n",
      "Epoch 1700/10000 - Train Loss: 0.6941854953765869, Validation Loss: 0.8118, Test Loss: 0.8448\n",
      "Epoch 1800/10000 - Train Loss: 0.6837443709373474, Validation Loss: 0.8108, Test Loss: 0.8431\n",
      "Epoch 1900/10000 - Train Loss: 0.6728352904319763, Validation Loss: 0.8100, Test Loss: 0.8413\n",
      "Epoch 2000/10000 - Train Loss: 0.6615073680877686, Validation Loss: 0.8096, Test Loss: 0.8399\n",
      "Epoch 2100/10000 - Train Loss: 0.6500043272972107, Validation Loss: 0.8103, Test Loss: 0.8396\n",
      "Epoch 2200/10000 - Train Loss: 0.6384957432746887, Validation Loss: 0.8122, Test Loss: 0.8405\n",
      "Epoch 2300/10000 - Train Loss: 0.6271520256996155, Validation Loss: 0.8153, Test Loss: 0.8425\n",
      "Epoch 2400/10000 - Train Loss: 0.6160203218460083, Validation Loss: 0.8193, Test Loss: 0.8455\n",
      "Epoch 2500/10000 - Train Loss: 0.6050558686256409, Validation Loss: 0.8241, Test Loss: 0.8494\n",
      "Epoch 2600/10000 - Train Loss: 0.5941627621650696, Validation Loss: 0.8294, Test Loss: 0.8540\n",
      "Epoch 2700/10000 - Train Loss: 0.5832775831222534, Validation Loss: 0.8348, Test Loss: 0.8587\n",
      "Epoch 2800/10000 - Train Loss: 0.5724670886993408, Validation Loss: 0.8400, Test Loss: 0.8634\n",
      "Epoch 2900/10000 - Train Loss: 0.5616979598999023, Validation Loss: 0.8450, Test Loss: 0.8688\n",
      "Early stopping at epoch 2962\n"
     ]
    }
   ],
   "source": [
    "iogcnh = IOGCNH(Su, Si, in_dim_x, in_dim_y, num_hidden_iogcnh, out_dim_iogcnh, Nu, Ni, num_layers_iogcnh, nonlin, K=K).to(device)\n",
    "iogcnh, best_test_loss_iogcnh = test(iogcnh, guser, gitem, X, Y, rate_mat,\n",
    "                                     train_mask_mat, val_mask_mat, test_mask_mat,\n",
    "                                     n_epochs, patience_es, lr_iogcnh, wd, eval_freq)\n",
    "est_ratings_iogcnh = iogcnh.get_ratings(guser, gitem, X, Y)[test_mask_mat]"
   ]
  },
  {
   "cell_type": "code",
   "execution_count": 32,
   "id": "49be95f7",
   "metadata": {},
   "outputs": [
    {
     "name": "stdout",
     "output_type": "stream",
     "text": [
      "Epoch 100/10000 - Train Loss: 1.3523563146591187, Val Loss: 1.4346779584884644\n",
      "Epoch 200/10000 - Train Loss: 1.1000717878341675, Val Loss: 1.2498975992202759\n",
      "Epoch 300/10000 - Train Loss: 0.9431686401367188, Val Loss: 1.1068376302719116\n",
      "Epoch 400/10000 - Train Loss: 0.8634993433952332, Val Loss: 1.0407803058624268\n",
      "Epoch 500/10000 - Train Loss: 0.8090066909790039, Val Loss: 0.9846872091293335\n",
      "Epoch 600/10000 - Train Loss: 0.7800090909004211, Val Loss: 0.9608811140060425\n",
      "Epoch 700/10000 - Train Loss: 0.7677335143089294, Val Loss: 0.9559363722801208\n",
      "Epoch 800/10000 - Train Loss: 0.7625872492790222, Val Loss: 0.9544868469238281\n",
      "Epoch 900/10000 - Train Loss: 0.7603998184204102, Val Loss: 0.9545132517814636\n",
      "Epoch 1000/10000 - Train Loss: 0.759425163269043, Val Loss: 0.9565727114677429\n",
      "Epoch 1100/10000 - Train Loss: 0.7589624524116516, Val Loss: 0.9594054222106934\n",
      "Epoch 1200/10000 - Train Loss: 0.7587268948554993, Val Loss: 0.9619489908218384\n",
      "Epoch 1300/10000 - Train Loss: 0.7585974335670471, Val Loss: 0.9641517400741577\n",
      "Epoch 1400/10000 - Train Loss: 0.7584848403930664, Val Loss: 0.966102123260498\n",
      "Epoch 1500/10000 - Train Loss: 0.7583976984024048, Val Loss: 0.9682013392448425\n",
      "Epoch 1600/10000 - Train Loss: 0.7583678960800171, Val Loss: 0.9697679877281189\n",
      "Epoch 1700/10000 - Train Loss: 0.7583481669425964, Val Loss: 0.9711204171180725\n",
      "Epoch 1800/10000 - Train Loss: 0.7583341002464294, Val Loss: 0.9723232984542847\n",
      "Early stopping at epoch 1851\n"
     ]
    }
   ],
   "source": [
    "lr_rank = 2 # out_dim\n",
    "lr_low_rank = 1e-2\n",
    "low_rank_ratings, best_test_loss_low_rank = low_rank_matrix_completion(\n",
    "    rate_mat, lr_rank,\n",
    "    train_mask_mat, val_mask_mat, test_mask_mat,\n",
    "    lr=lr_low_rank, epochs=n_epochs, patience=patience_es\n",
    ")\n",
    "est_ratings_low_rank = low_rank_ratings[test_mask_mat]"
   ]
  },
  {
   "cell_type": "code",
   "execution_count": 33,
   "id": "e85b734e",
   "metadata": {},
   "outputs": [
    {
     "name": "stdout",
     "output_type": "stream",
     "text": [
      "Epoch 100/10000 - Train Loss: 14473.5380859375, Val Loss: 1.3630168437957764\n",
      "Epoch 200/10000 - Train Loss: 6659.69775390625, Val Loss: 1.086586356163025\n",
      "Epoch 300/10000 - Train Loss: 5117.6005859375, Val Loss: 1.005090594291687\n",
      "Epoch 400/10000 - Train Loss: 4884.181640625, Val Loss: 0.9818832874298096\n",
      "Epoch 500/10000 - Train Loss: 4815.9931640625, Val Loss: 0.9749763607978821\n",
      "Epoch 600/10000 - Train Loss: 4785.8134765625, Val Loss: 0.9727119207382202\n",
      "Epoch 700/10000 - Train Loss: 4769.6298828125, Val Loss: 0.9720578789710999\n",
      "Epoch 800/10000 - Train Loss: 4759.9501953125, Val Loss: 0.9719228744506836\n",
      "Epoch 900/10000 - Train Loss: 4753.71826171875, Val Loss: 0.9720218777656555\n",
      "Epoch 1000/10000 - Train Loss: 4749.5439453125, Val Loss: 0.9722933769226074\n",
      "Epoch 1100/10000 - Train Loss: 4746.63818359375, Val Loss: 0.9726388454437256\n",
      "Epoch 1200/10000 - Train Loss: 4744.48388671875, Val Loss: 0.972891628742218\n",
      "Epoch 1300/10000 - Train Loss: 4742.88623046875, Val Loss: 0.973182737827301\n",
      "Epoch 1400/10000 - Train Loss: 4741.603515625, Val Loss: 0.9733923673629761\n",
      "Epoch 1500/10000 - Train Loss: 4740.6494140625, Val Loss: 0.9734908938407898\n",
      "Epoch 1600/10000 - Train Loss: 4739.845703125, Val Loss: 0.9736045598983765\n",
      "Epoch 1700/10000 - Train Loss: 4739.208984375, Val Loss: 0.9736316800117493\n",
      "Epoch 1800/10000 - Train Loss: 4738.7294921875, Val Loss: 0.9737256765365601\n",
      "Early stopping at epoch 1813\n"
     ]
    }
   ],
   "source": [
    "lr_nuc_ratings, best_test_loss_lr_nuc = nuclear_norm_matrix_completion(\n",
    "    rate_mat,\n",
    "    train_mask_mat, val_mask_mat, test_mask_mat,\n",
    "    lr=lr_low_rank, epochs=n_epochs, patience=patience_es\n",
    ")\n",
    "est_ratings_lr_nuc = lr_nuc_ratings[test_mask_mat]"
   ]
  },
  {
   "cell_type": "markdown",
   "id": "58ce2039",
   "metadata": {},
   "source": [
    "# Evaluation"
   ]
  },
  {
   "cell_type": "code",
   "execution_count": 34,
   "id": "85936a0c",
   "metadata": {},
   "outputs": [
    {
     "data": {
      "text/plain": [
       "(0.9237536787986755,\n",
       " 0.9268210530281067,\n",
       " 0.8717735409736633,\n",
       " 1.012166976928711,\n",
       " 1.0372377634048462)"
      ]
     },
     "execution_count": 34,
     "metadata": {},
     "output_type": "execute_result"
    }
   ],
   "source": [
    "best_test_loss_iogcn, best_test_loss_iomlp, best_test_loss_iogcnh, best_test_loss_low_rank, best_test_loss_lr_nuc"
   ]
  },
  {
   "cell_type": "code",
   "execution_count": 35,
   "id": "8c9275f4",
   "metadata": {},
   "outputs": [],
   "source": [
    "orig_ratings = rate_mat[test_mask_mat].clone()"
   ]
  },
  {
   "cell_type": "code",
   "execution_count": 36,
   "id": "84fc324e",
   "metadata": {},
   "outputs": [
    {
     "data": {
      "text/plain": [
       "(0.9611210823059082,\n",
       " 0.9627155065536499,\n",
       " 0.9336881637573242,\n",
       " 1.0060651302337646,\n",
       " 1.0184487104415894)"
      ]
     },
     "execution_count": 36,
     "metadata": {},
     "output_type": "execute_result"
    }
   ],
   "source": [
    "rmse_iogcn = torch.sqrt(((est_ratings_iogcn - orig_ratings)**2).sum() / test_mask_mat.sum())\n",
    "rmse_iogat = torch.sqrt(((est_ratings_iogat - orig_ratings)**2).sum() / test_mask_mat.sum())\n",
    "rmse_iomlp = torch.sqrt(((est_ratings_iomlp - orig_ratings)**2).sum() / test_mask_mat.sum())\n",
    "rmse_iogcnh = torch.sqrt(((est_ratings_iogcnh - orig_ratings)**2).sum() / test_mask_mat.sum())\n",
    "rmse_low_rank = torch.sqrt(((est_ratings_low_rank - orig_ratings)**2).sum() / test_mask_mat.sum())\n",
    "rmse_lr_nuc = torch.sqrt(((est_ratings_lr_nuc - orig_ratings)**2).sum() / test_mask_mat.sum())\n",
    "rmse_iogcn.item(), rmse_iomlp.item(), rmse_iogcnh.item(), rmse_low_rank.item(), rmse_lr_nuc.item()"
   ]
  },
  {
   "cell_type": "code",
   "execution_count": 39,
   "id": "59731715",
   "metadata": {},
   "outputs": [
    {
     "data": {
      "text/plain": [
       "(tensor(1.1537, device='cuda:0'), 1.3309671878814697)"
      ]
     },
     "execution_count": 39,
     "metadata": {},
     "output_type": "execute_result"
    }
   ],
   "source": [
    "mean_train_rate = rate_mat[train_mask_mat].mean()\n",
    "rmse_mean = torch.sqrt(((mean_train_rate - orig_ratings)**2).sum() / test_mask_mat.sum())\n",
    "test_loss_mean = torch.mean((mean_train_rate - orig_ratings) ** 2).item()\n",
    "rmse_mean, test_loss_mean"
   ]
  },
  {
   "cell_type": "code",
   "execution_count": 40,
   "id": "c49091b1",
   "metadata": {},
   "outputs": [
    {
     "data": {
      "text/html": [
       "<style type=\"text/css\">\n",
       "#T_69211_row3_col0, #T_69211_row3_col1 {\n",
       "  background-color: blue;\n",
       "}\n",
       "</style>\n",
       "<table id=\"T_69211\">\n",
       "  <thead>\n",
       "    <tr>\n",
       "      <th class=\"blank level0\" >&nbsp;</th>\n",
       "      <th id=\"T_69211_level0_col0\" class=\"col_heading level0 col0\" >Test RMSE</th>\n",
       "      <th id=\"T_69211_level0_col1\" class=\"col_heading level0 col1\" >Best Test Loss</th>\n",
       "    </tr>\n",
       "    <tr>\n",
       "      <th class=\"index_name level0\" >Model</th>\n",
       "      <th class=\"blank col0\" >&nbsp;</th>\n",
       "      <th class=\"blank col1\" >&nbsp;</th>\n",
       "    </tr>\n",
       "  </thead>\n",
       "  <tbody>\n",
       "    <tr>\n",
       "      <th id=\"T_69211_level0_row0\" class=\"row_heading level0 row0\" >IOGCN</th>\n",
       "      <td id=\"T_69211_row0_col0\" class=\"data row0 col0\" >0.961121</td>\n",
       "      <td id=\"T_69211_row0_col1\" class=\"data row0 col1\" >0.923754</td>\n",
       "    </tr>\n",
       "    <tr>\n",
       "      <th id=\"T_69211_level0_row1\" class=\"row_heading level0 row1\" >IOGAT</th>\n",
       "      <td id=\"T_69211_row1_col0\" class=\"data row1 col0\" >0.961878</td>\n",
       "      <td id=\"T_69211_row1_col1\" class=\"data row1 col1\" >0.925209</td>\n",
       "    </tr>\n",
       "    <tr>\n",
       "      <th id=\"T_69211_level0_row2\" class=\"row_heading level0 row2\" >IOMLP</th>\n",
       "      <td id=\"T_69211_row2_col0\" class=\"data row2 col0\" >0.962716</td>\n",
       "      <td id=\"T_69211_row2_col1\" class=\"data row2 col1\" >0.926821</td>\n",
       "    </tr>\n",
       "    <tr>\n",
       "      <th id=\"T_69211_level0_row3\" class=\"row_heading level0 row3\" >IOGCNH</th>\n",
       "      <td id=\"T_69211_row3_col0\" class=\"data row3 col0\" >0.933688</td>\n",
       "      <td id=\"T_69211_row3_col1\" class=\"data row3 col1\" >0.871774</td>\n",
       "    </tr>\n",
       "    <tr>\n",
       "      <th id=\"T_69211_level0_row4\" class=\"row_heading level0 row4\" >Low-Rank</th>\n",
       "      <td id=\"T_69211_row4_col0\" class=\"data row4 col0\" >1.006065</td>\n",
       "      <td id=\"T_69211_row4_col1\" class=\"data row4 col1\" >1.012167</td>\n",
       "    </tr>\n",
       "    <tr>\n",
       "      <th id=\"T_69211_level0_row5\" class=\"row_heading level0 row5\" >Nuclear Norm</th>\n",
       "      <td id=\"T_69211_row5_col0\" class=\"data row5 col0\" >1.018449</td>\n",
       "      <td id=\"T_69211_row5_col1\" class=\"data row5 col1\" >1.037238</td>\n",
       "    </tr>\n",
       "    <tr>\n",
       "      <th id=\"T_69211_level0_row6\" class=\"row_heading level0 row6\" >Mean</th>\n",
       "      <td id=\"T_69211_row6_col0\" class=\"data row6 col0\" >1.153676</td>\n",
       "      <td id=\"T_69211_row6_col1\" class=\"data row6 col1\" >1.330967</td>\n",
       "    </tr>\n",
       "  </tbody>\n",
       "</table>\n"
      ],
      "text/plain": [
       "<pandas.io.formats.style.Styler at 0x75047f3cfe60>"
      ]
     },
     "execution_count": 40,
     "metadata": {},
     "output_type": "execute_result"
    }
   ],
   "source": [
    "df = pd.DataFrame({\n",
    "    \"Model\": [\"IOGCN\", \"IOGAT\", \"IOMLP\", \"IOGCNH\", \"Low-Rank\", \"Nuclear Norm\", \"Mean\"],\n",
    "    \"Test RMSE\": [rmse_iogcn.item(), rmse_iogat.item(), rmse_iomlp.item(), rmse_iogcnh.item(), rmse_low_rank.item(), rmse_lr_nuc.item(), rmse_mean.item()],\n",
    "    \"Best Test Loss\": [best_test_loss_iogcn, best_test_loss_iogat, best_test_loss_iomlp, best_test_loss_iogcnh, best_test_loss_low_rank, best_test_loss_lr_nuc, test_loss_mean],\n",
    "}).set_index(\"Model\")\n",
    "df.style.highlight_min(axis=0, color='blue')"
   ]
  },
  {
   "cell_type": "markdown",
   "id": "849fd7d4",
   "metadata": {},
   "source": [
    "# Exhaustive tests"
   ]
  },
  {
   "cell_type": "code",
   "execution_count": 46,
   "id": "2597ffea",
   "metadata": {},
   "outputs": [
    {
     "name": "stdout",
     "output_type": "stream",
     "text": [
      "Latent dimension: 2\n",
      "Latent dimension: 4\n",
      "Latent dimension: 6\n",
      "Latent dimension: 8\n",
      "Latent dimension: 10\n",
      "Latent dimension: 12\n",
      "Latent dimension: 14\n",
      "Latent dimension: 16\n",
      "Latent dimension: 18\n",
      "Latent dimension: 20\n",
      "Latent dimension: 22\n",
      "Latent dimension: 24\n",
      "Latent dimension: 26\n",
      "Latent dimension: 28\n",
      "Latent dimension: 30\n",
      "Latent dimension: 32\n",
      "Latent dimension: 34\n",
      "Latent dimension: 36\n",
      "Latent dimension: 38\n",
      "Latent dimension: 40\n",
      "Latent dimension: 42\n",
      "Latent dimension: 44\n",
      "Latent dimension: 46\n",
      "Latent dimension: 48\n",
      "Latent dimension: 50\n",
      "Latent dimension: 52\n",
      "Latent dimension: 54\n",
      "Latent dimension: 56\n",
      "Latent dimension: 58\n",
      "Latent dimension: 60\n",
      "Latent dimension: 62\n",
      "Latent dimension: 64\n"
     ]
    }
   ],
   "source": [
    "lat_dim_vals = np.arange(2, 65, 2)\n",
    "\n",
    "rmse_iogcn_lat_dim = np.zeros(len(lat_dim_vals))\n",
    "rmse_iogcnh_lat_dim = np.zeros(len(lat_dim_vals))\n",
    "rmse_low_rank_lat_dim = np.zeros(len(lat_dim_vals))\n",
    "\n",
    "for i, lat_dim in enumerate(lat_dim_vals):\n",
    "    print(\"Latent dimension:\", lat_dim)\n",
    "    iogcn = IOGCN(in_dim_x, in_dim_y, hid_dim, lat_dim, Nu, Ni, n_layers, nonlin).to(device)\n",
    "    iogcn, best_test_loss_iogcn = test(iogcn, guser, gitem, X, Y, rate_mat,\n",
    "                                       train_mask_mat, val_mask_mat, test_mask_mat,\n",
    "                                       n_epochs, patience_es, lr, wd, eval_freq, verbose=False)\n",
    "    est_ratings_iogcn = iogcn.get_ratings(guser, gitem, X, Y)[test_mask_mat]\n",
    "    rmse_iogcn_lat_dim[i] = torch.sqrt(((est_ratings_iogcn - orig_ratings)**2).sum()) / test_mask_mat.sum()\n",
    "\n",
    "    iogcnh = IOGCNH(Su, Si, in_dim_x, in_dim_y, num_hidden_iogcnh, lat_dim, Nu, Ni, num_layers_iogcnh, nonlin, K=K).to(device)\n",
    "    iogcnh, best_test_loss_iogcnh = test(iogcnh, guser, gitem, X, Y, rate_mat,\n",
    "                                         train_mask_mat, val_mask_mat, test_mask_mat,\n",
    "                                         n_epochs, patience_es, lr_iogcnh, wd, eval_freq, verbose=False)\n",
    "    est_ratings_iogcnh = iogcnh.get_ratings(guser, gitem, X, Y)[test_mask_mat]\n",
    "    rmse_iogcnh_lat_dim[i] = torch.sqrt(((est_ratings_iogcnh - orig_ratings)**2).sum()) / test_mask_mat.sum()\n",
    "    \n",
    "    low_rank_ratings, best_test_loss_low_rank = low_rank_matrix_completion(\n",
    "        rate_mat, lat_dim,\n",
    "        train_mask_mat, val_mask_mat, test_mask_mat,\n",
    "        lr=lr_low_rank, epochs=n_epochs, patience=patience_es, verbose=False\n",
    "    )\n",
    "    est_ratings_low_rank = low_rank_ratings[test_mask_mat]\n",
    "    rmse_low_rank_lat_dim[i] = torch.sqrt(((est_ratings_low_rank - orig_ratings)**2).sum() / test_mask_mat.sum())"
   ]
  },
  {
   "cell_type": "code",
   "execution_count": 47,
   "id": "795d8cdc",
   "metadata": {},
   "outputs": [
    {
     "data": {
      "image/png": "[encoded data removed]",
      "text/plain": [
       "<Figure size 1000x600 with 1 Axes>"
      ]
     },
     "metadata": {},
     "output_type": "display_data"
    }
   ],
   "source": [
    "plt.figure(figsize=(10, 6))\n",
    "plt.plot(lat_dim_vals, rmse_iogcn_lat_dim, label='IOGCN', marker='o')\n",
    "plt.plot(lat_dim_vals, rmse_iogcnh_lat_dim, label='IOGCNH', marker='o')\n",
    "plt.plot(lat_dim_vals, rmse_low_rank_lat_dim, label='Low-Rank', marker='o')\n",
    "plt.axhline(y=rmse_mean.item(), color='r', linestyle='--', label='Mean')\n",
    "plt.xlabel('Latent Dimension')\n",
    "plt.ylabel('Test RMSE')\n",
    "plt.title('Test RMSE vs Latent Dimension')\n",
    "plt.legend()\n",
    "plt.grid()"
   ]
  },
  {
   "cell_type": "code",
   "execution_count": 135,
   "id": "bbef7638-a02b-46f1-b773-335020d4ab71",
   "metadata": {},
   "outputs": [],
   "source": [
    "with open('config_recommendation.yaml', 'r') as f:\n",
    "    hyperparams = yaml.safe_load(f)"
   ]
  },
  {
   "cell_type": "code",
   "execution_count": null,
   "id": "79d3c37d",
   "metadata": {},
   "outputs": [
    {
     "name": "stderr",
     "output_type": "stream",
     "text": [
      "/home/vtenorio/.local/lib/python3.12/site-packages/dgl/data/movielens.py:201: DGLWarning: test_ratio (0.1) is not set to None for ml-100k. Note that dataset split would not be affected by the test_ratio since testing samples of ml-100k have been pre-specified.\n",
      "  dgl_warning(\n"
     ]
    },
    {
     "name": "stdout",
     "output_type": "stream",
     "text": [
      "Running IOGCN on ml-100k dataset DONE\n",
      "Running IOGAT on ml-100k dataset DONE\n",
      "Running IOMLP on ml-100k dataset DONE\n",
      "Running IOGCNH on ml-100k dataset DONE\n",
      "Running low_rank on ml-100k dataset DONE\n",
      "Running nuclear_lr on ml-100k dataset "
     ]
    }
   ],
   "source": [
    "datasets = [\"ml-100k\", \"ml-1m\"]#, \"ml-10m\"]\n",
    "\n",
    "results_list = []\n",
    "for dataset_name in datasets:\n",
    "    dataset = MovieLensDataset(name=dataset_name, valid_ratio=0.1, test_ratio=0.1)\n",
    "    g = dataset[0]\n",
    "    Nu = g.num_nodes(ntype='user')\n",
    "    Ni = g.num_nodes(ntype='movie')\n",
    "    Ne = g.num_edges(etype='user-movie')\n",
    "\n",
    "    rate = g.edges['user-movie'].data['rate']\n",
    "    mean_rate = rate.mean()\n",
    "    rate_norm = rate.float() - mean_rate\n",
    "\n",
    "    user_movie_edges = g.edges(etype='user-movie')\n",
    "    train_mask = g.edges['user-movie'].data['train_mask']\n",
    "    val_mask = g.edges['user-movie'].data['valid_mask']\n",
    "    test_mask = g.edges['user-movie'].data['test_mask']\n",
    "\n",
    "    train_mask_mat = torch.zeros(Nu, Ni, dtype=torch.bool)\n",
    "    val_mask_mat = torch.zeros(Nu, Ni, dtype=torch.bool)\n",
    "    test_mask_mat = torch.zeros(Nu, Ni, dtype=torch.bool)\n",
    "    rate_mat = torch.zeros(Nu, Ni)\n",
    "    for j in range(Ne):\n",
    "        u, i = user_movie_edges[0][j], user_movie_edges[1][j]\n",
    "        rate_mat[u, i] = rate_norm[j]\n",
    "        train_mask_mat[u, i] = train_mask[j]\n",
    "        val_mask_mat[u, i] = val_mask[j]\n",
    "        test_mask_mat[u, i] = test_mask[j]\n",
    "\n",
    "    test_ratings = rate_mat[test_mask_mat].clone().to(device)\n",
    "\n",
    "    if feat_type == \"ratings\":\n",
    "        # Use ratings as features\n",
    "        X = rate_mat.clone().float()\n",
    "        Y = rate_mat.T.clone().float()\n",
    "        X[~train_mask_mat] = 0.\n",
    "        Y[~train_mask_mat.T] = 0.\n",
    "    elif feat_type == \"data\":\n",
    "        X = g.nodes[\"user\"].data[\"feat\"]\n",
    "        Y = g.nodes[\"movie\"].data[\"feat\"]\n",
    "\n",
    "    rate_mat = rate_mat.to(device)\n",
    "    train_mask_mat = train_mask_mat.to(device)\n",
    "    val_mask_mat = val_mask_mat.to(device)\n",
    "    test_mask_mat = test_mask_mat.to(device)\n",
    "    X = X.to(device)\n",
    "    Y = Y.to(device)\n",
    "    in_dim_x = X.shape[1]\n",
    "    in_dim_y = Y.shape[1]\n",
    "\n",
    "    results = {}\n",
    "\n",
    "    for m, model_name in enumerate([\"IOGCN\", \"IOGAT\", \"IOMLP\", \"IOGCNH\", \"low_rank\", \"nuclear_lr\"]):\n",
    "        # if dataset_name == \"ml-1m\" and model_name == \"nuclear_lr\":\n",
    "        #     results[model_name] = {\n",
    "        #         'RMSE': 1e4,\n",
    "        #         'Best Test Loss': 1e4,\n",
    "        #         'Elapsed Time': 1e4\n",
    "        #     }\n",
    "        #     continue\n",
    "        t_start = time.time()\n",
    "        print(f\"Running {model_name} on {dataset_name} dataset\", end=\" \")\n",
    "\n",
    "        lr = hyperparams[dataset_name][model_name]['lr']\n",
    "\n",
    "        try:\n",
    "\n",
    "            if model_name in [\"IOGCN\", \"IOGAT\", \"IOMLP\", \"IOGCNH\"]:\n",
    "                \n",
    "                if model_name in [\"IOGCN\", \"IOGAT\", \"IOGCNH\"]:\n",
    "                    adj_type = hyperparams[dataset_name][model_name]['adj_type']\n",
    "                    gmethod = hyperparams[dataset_name][model_name]['gmethod']\n",
    "                    nneigh = hyperparams[dataset_name][model_name]['nneigh']\n",
    "                    weighted = hyperparams[dataset_name][model_name]['weighted']\n",
    "                    pct_conn = hyperparams[dataset_name][model_name]['pct_conn']\n",
    "    \n",
    "                    user_adj, item_adj, guser, gitem = build_graphs(adj_type, gmethod, nneigh=nneigh, weighted=weighted, pct_conn=pct_conn)\n",
    "                    guser = guser.to(device).add_self_loop()\n",
    "                    gitem = gitem.to(device).add_self_loop()\n",
    "                else:\n",
    "                    guser = None\n",
    "                    gitem = None\n",
    "    \n",
    "                hid_dim = hyperparams[dataset_name][model_name]['hid_dim']\n",
    "                out_dim = hyperparams[dataset_name][model_name]['out_dim']\n",
    "                n_layers = hyperparams[dataset_name][model_name]['n_layers']\n",
    "                nonlin = hyperparams[dataset_name][model_name]['nonlin']\n",
    "    \n",
    "                if model_name in [\"IOGCN\", \"IOMLP\"]:\n",
    "                    model = eval(model_name)(in_dim_x, in_dim_y, hid_dim, out_dim, Nu, Ni, n_layers, nonlin).to(device)\n",
    "                elif model_name == \"IOGAT\":\n",
    "                    num_heads = hyperparams[dataset_name][model_name]['num_heads']\n",
    "                    feat_drop = hyperparams[dataset_name][model_name]['feat_drop']\n",
    "                    attn_drop = hyperparams[dataset_name][model_name]['attn_drop']\n",
    "                    model = IOGAT(in_dim_x, in_dim_y, hid_dim, out_dim, Nu, Ni, n_layers, nonlin, num_heads, feat_drop, attn_drop).to(device)\n",
    "                elif model_name == \"IOGCNH\":\n",
    "                    K = hyperparams[dataset_name][model_name]['K']\n",
    "                    Su = user_adj.to(device)\n",
    "                    Si = item_adj.to(device)\n",
    "                    model = IOGCNH(Su, Si, in_dim_x, in_dim_y, hid_dim, out_dim, Nu, Ni, n_layers, nonlin, K=K).to(device)\n",
    "    \n",
    "                model, best_test_loss = test(model, guser, gitem, X, Y, rate_mat,\n",
    "                                             train_mask_mat, val_mask_mat, test_mask_mat,\n",
    "                                             n_epochs, patience_es, lr, wd, eval_freq, verbose=False)\n",
    "                est_ratings = model.get_ratings(guser, gitem, X, Y)\n",
    "    \n",
    "            elif model_name == \"low_rank\":\n",
    "                rank = hyperparams[dataset_name][model_name]['rank']\n",
    "                est_ratings, best_test_loss = low_rank_matrix_completion(\n",
    "                    rate_mat, rank,\n",
    "                    train_mask_mat, val_mask_mat, test_mask_mat,\n",
    "                    lr=lr, epochs=n_epochs, patience=patience_es, verbose=False\n",
    "                )\n",
    "            elif model_name == \"nuclear_lr\":\n",
    "                est_ratings, best_test_loss = nuclear_norm_matrix_completion(\n",
    "                    rate_mat,\n",
    "                    train_mask_mat, val_mask_mat, test_mask_mat,\n",
    "                    lr=lr, epochs=n_epochs, patience=patience_es, verbose=False\n",
    "                )\n",
    "        except (torch.cuda.OutOfMemoryError, dgl.DGLError):\n",
    "            results[model_name] = {\n",
    "                'RMSE': -1.,\n",
    "                'Best Test Loss': -1.,\n",
    "                'Elapsed Time': -1.\n",
    "            }\n",
    "            continue\n",
    "        est_ratings = est_ratings[test_mask_mat]\n",
    "        elapsed_time = time.time() - t_start\n",
    "        \n",
    "        rmse = torch.sqrt(((est_ratings - test_ratings)**2).sum() / test_mask_mat.sum())\n",
    "\n",
    "        results[model_name] = {\n",
    "            'RMSE': rmse.item(),\n",
    "            'Best Test Loss': best_test_loss,\n",
    "            'Elapsed Time': elapsed_time\n",
    "        }\n",
    "        print(\"DONE\", flush=True)\n",
    "    results_list.append(results)"
   ]
  },
  {
   "cell_type": "code",
   "execution_count": 96,
   "id": "7b6f1151",
   "metadata": {},
   "outputs": [
    {
     "name": "stderr",
     "output_type": "stream",
     "text": [
      "/home/vtenorio/.local/lib/python3.12/site-packages/dgl/data/movielens.py:201: DGLWarning: test_ratio (0.1) is not set to None for ml-100k. Note that dataset split would not be affected by the test_ratio since testing samples of ml-100k have been pre-specified.\n",
      "  dgl_warning(\n"
     ]
    }
   ],
   "source": [
    "data_stats = []\n",
    "datasets = [\"ml-100k\", \"ml-1m\"]\n",
    "datasets_long = ['MovieLens-100k', 'MovieLens-1M']\n",
    "for dataset_name in datasets:\n",
    "    dataset = MovieLensDataset(name=dataset_name, valid_ratio=0.1, test_ratio=0.1)\n",
    "    g = dataset[0]\n",
    "    Nu = g.num_nodes(ntype='user')\n",
    "    Ni = g.num_nodes(ntype='movie')\n",
    "    Ne = g.num_edges(etype='user-movie')\n",
    "    \n",
    "    data_stats.append({\n",
    "        'Nusers': Nu,\n",
    "        'Nitems': Ni,\n",
    "        'Nedges': Ne\n",
    "    })"
   ]
  },
  {
   "cell_type": "code",
   "execution_count": 105,
   "id": "a3abfd4d",
   "metadata": {},
   "outputs": [
    {
     "data": {
      "text/html": [
       "<div>\n",
       "<style scoped>\n",
       "    .dataframe tbody tr th:only-of-type {\n",
       "        vertical-align: middle;\n",
       "    }\n",
       "\n",
       "    .dataframe tbody tr th {\n",
       "        vertical-align: top;\n",
       "    }\n",
       "\n",
       "    .dataframe thead th {\n",
       "        text-align: right;\n",
       "    }\n",
       "</style>\n",
       "<table border=\"1\" class=\"dataframe\">\n",
       "  <thead>\n",
       "    <tr style=\"text-align: right;\">\n",
       "      <th></th>\n",
       "      <th>MovieLens-100k</th>\n",
       "      <th>MovieLens-1M</th>\n",
       "    </tr>\n",
       "  </thead>\n",
       "  <tbody>\n",
       "    <tr>\n",
       "      <th>Nusers</th>\n",
       "      <td>943</td>\n",
       "      <td>6040</td>\n",
       "    </tr>\n",
       "    <tr>\n",
       "      <th>Nitems</th>\n",
       "      <td>1682</td>\n",
       "      <td>3706</td>\n",
       "    </tr>\n",
       "    <tr>\n",
       "      <th>Nedges</th>\n",
       "      <td>100000</td>\n",
       "      <td>1000209</td>\n",
       "    </tr>\n",
       "  </tbody>\n",
       "</table>\n",
       "</div>"
      ],
      "text/plain": [
       "        MovieLens-100k  MovieLens-1M\n",
       "Nusers             943          6040\n",
       "Nitems            1682          3706\n",
       "Nedges          100000       1000209"
      ]
     },
     "execution_count": 105,
     "metadata": {},
     "output_type": "execute_result"
    }
   ],
   "source": [
    "data_stats_df = pd.DataFrame(data_stats, index=datasets_long).T\n",
    "data_stats_df"
   ]
  },
  {
   "cell_type": "code",
   "execution_count": 131,
   "id": "6d043eca-9c61-453e-9656-3f0cbb399a49",
   "metadata": {},
   "outputs": [
    {
     "data": {
      "text/html": [
       "<style type=\"text/css\">\n",
       "#T_9d7a6_row6_col0, #T_9d7a6_row6_col1 {\n",
       "  background-color: blue;\n",
       "}\n",
       "</style>\n",
       "<table id=\"T_9d7a6\">\n",
       "  <thead>\n",
       "    <tr>\n",
       "      <th class=\"blank level0\" >&nbsp;</th>\n",
       "      <th id=\"T_9d7a6_level0_col0\" class=\"col_heading level0 col0\" >MovieLens-100k</th>\n",
       "      <th id=\"T_9d7a6_level0_col1\" class=\"col_heading level0 col1\" >MovieLens-1M</th>\n",
       "    </tr>\n",
       "  </thead>\n",
       "  <tbody>\n",
       "    <tr>\n",
       "      <th id=\"T_9d7a6_level0_row0\" class=\"row_heading level0 row0\" >Nusers</th>\n",
       "      <td id=\"T_9d7a6_row0_col0\" class=\"data row0 col0\" >943.000000</td>\n",
       "      <td id=\"T_9d7a6_row0_col1\" class=\"data row0 col1\" >6040.000000</td>\n",
       "    </tr>\n",
       "    <tr>\n",
       "      <th id=\"T_9d7a6_level0_row1\" class=\"row_heading level0 row1\" >Nitems</th>\n",
       "      <td id=\"T_9d7a6_row1_col0\" class=\"data row1 col0\" >1682.000000</td>\n",
       "      <td id=\"T_9d7a6_row1_col1\" class=\"data row1 col1\" >3706.000000</td>\n",
       "    </tr>\n",
       "    <tr>\n",
       "      <th id=\"T_9d7a6_level0_row2\" class=\"row_heading level0 row2\" >Nedges</th>\n",
       "      <td id=\"T_9d7a6_row2_col0\" class=\"data row2 col0\" >100000.000000</td>\n",
       "      <td id=\"T_9d7a6_row2_col1\" class=\"data row2 col1\" >1000209.000000</td>\n",
       "    </tr>\n",
       "    <tr>\n",
       "      <th id=\"T_9d7a6_level0_row3\" class=\"row_heading level0 row3\" >IOGCN</th>\n",
       "      <td id=\"T_9d7a6_row3_col0\" class=\"data row3 col0\" >0.928731</td>\n",
       "      <td id=\"T_9d7a6_row3_col1\" class=\"data row3 col1\" >0.761836</td>\n",
       "    </tr>\n",
       "    <tr>\n",
       "      <th id=\"T_9d7a6_level0_row4\" class=\"row_heading level0 row4\" >IOGAT</th>\n",
       "      <td id=\"T_9d7a6_row4_col0\" class=\"data row4 col0\" >0.877631</td>\n",
       "      <td id=\"T_9d7a6_row4_col1\" class=\"data row4 col1\" >0.759044</td>\n",
       "    </tr>\n",
       "    <tr>\n",
       "      <th id=\"T_9d7a6_level0_row5\" class=\"row_heading level0 row5\" >IOMLP</th>\n",
       "      <td id=\"T_9d7a6_row5_col0\" class=\"data row5 col0\" >0.892243</td>\n",
       "      <td id=\"T_9d7a6_row5_col1\" class=\"data row5 col1\" >0.744401</td>\n",
       "    </tr>\n",
       "    <tr>\n",
       "      <th id=\"T_9d7a6_level0_row6\" class=\"row_heading level0 row6\" >IOGCNH</th>\n",
       "      <td id=\"T_9d7a6_row6_col0\" class=\"data row6 col0\" >0.868242</td>\n",
       "      <td id=\"T_9d7a6_row6_col1\" class=\"data row6 col1\" >0.729586</td>\n",
       "    </tr>\n",
       "    <tr>\n",
       "      <th id=\"T_9d7a6_level0_row7\" class=\"row_heading level0 row7\" >low_rank</th>\n",
       "      <td id=\"T_9d7a6_row7_col0\" class=\"data row7 col0\" >1.168850</td>\n",
       "      <td id=\"T_9d7a6_row7_col1\" class=\"data row7 col1\" >0.782104</td>\n",
       "    </tr>\n",
       "    <tr>\n",
       "      <th id=\"T_9d7a6_level0_row8\" class=\"row_heading level0 row8\" >nuclear_lr</th>\n",
       "      <td id=\"T_9d7a6_row8_col0\" class=\"data row8 col0\" >1.034858</td>\n",
       "      <td id=\"T_9d7a6_row8_col1\" class=\"data row8 col1\" >0.829523</td>\n",
       "    </tr>\n",
       "  </tbody>\n",
       "</table>\n"
      ],
      "text/plain": [
       "<pandas.io.formats.style.Styler at 0x71780c90c1a0>"
      ]
     },
     "execution_count": 131,
     "metadata": {},
     "output_type": "execute_result"
    }
   ],
   "source": [
    "test_losses = [{k: v['Best Test Loss'] for k, v in el.items()} for el in results_list]\n",
    "\n",
    "test_losses_df = pd.DataFrame(test_losses, index=datasets_long).T\n",
    "pd.concat([data_stats_df, test_losses_df]).style.highlight_min(color='blue')"
   ]
  },
  {
   "cell_type": "code",
   "execution_count": 132,
   "id": "46b33b49",
   "metadata": {},
   "outputs": [
    {
     "data": {
      "text/html": [
       "<style type=\"text/css\">\n",
       "#T_44971_row6_col0, #T_44971_row6_col1 {\n",
       "  background-color: blue;\n",
       "}\n",
       "</style>\n",
       "<table id=\"T_44971\">\n",
       "  <thead>\n",
       "    <tr>\n",
       "      <th class=\"blank level0\" >&nbsp;</th>\n",
       "      <th id=\"T_44971_level0_col0\" class=\"col_heading level0 col0\" >MovieLens-100k</th>\n",
       "      <th id=\"T_44971_level0_col1\" class=\"col_heading level0 col1\" >MovieLens-1M</th>\n",
       "    </tr>\n",
       "  </thead>\n",
       "  <tbody>\n",
       "    <tr>\n",
       "      <th id=\"T_44971_level0_row0\" class=\"row_heading level0 row0\" >Nusers</th>\n",
       "      <td id=\"T_44971_row0_col0\" class=\"data row0 col0\" >943.000000</td>\n",
       "      <td id=\"T_44971_row0_col1\" class=\"data row0 col1\" >6040.000000</td>\n",
       "    </tr>\n",
       "    <tr>\n",
       "      <th id=\"T_44971_level0_row1\" class=\"row_heading level0 row1\" >Nitems</th>\n",
       "      <td id=\"T_44971_row1_col0\" class=\"data row1 col0\" >1682.000000</td>\n",
       "      <td id=\"T_44971_row1_col1\" class=\"data row1 col1\" >3706.000000</td>\n",
       "    </tr>\n",
       "    <tr>\n",
       "      <th id=\"T_44971_level0_row2\" class=\"row_heading level0 row2\" >Nedges</th>\n",
       "      <td id=\"T_44971_row2_col0\" class=\"data row2 col0\" >100000.000000</td>\n",
       "      <td id=\"T_44971_row2_col1\" class=\"data row2 col1\" >1000209.000000</td>\n",
       "    </tr>\n",
       "    <tr>\n",
       "      <th id=\"T_44971_level0_row3\" class=\"row_heading level0 row3\" >IOGCN</th>\n",
       "      <td id=\"T_44971_row3_col0\" class=\"data row3 col0\" >0.963707</td>\n",
       "      <td id=\"T_44971_row3_col1\" class=\"data row3 col1\" >0.872832</td>\n",
       "    </tr>\n",
       "    <tr>\n",
       "      <th id=\"T_44971_level0_row4\" class=\"row_heading level0 row4\" >IOGAT</th>\n",
       "      <td id=\"T_44971_row4_col0\" class=\"data row4 col0\" >0.936820</td>\n",
       "      <td id=\"T_44971_row4_col1\" class=\"data row4 col1\" >0.871231</td>\n",
       "    </tr>\n",
       "    <tr>\n",
       "      <th id=\"T_44971_level0_row5\" class=\"row_heading level0 row5\" >IOMLP</th>\n",
       "      <td id=\"T_44971_row5_col0\" class=\"data row5 col0\" >0.944586</td>\n",
       "      <td id=\"T_44971_row5_col1\" class=\"data row5 col1\" >0.862786</td>\n",
       "    </tr>\n",
       "    <tr>\n",
       "      <th id=\"T_44971_level0_row6\" class=\"row_heading level0 row6\" >IOGCNH</th>\n",
       "      <td id=\"T_44971_row6_col0\" class=\"data row6 col0\" >0.931795</td>\n",
       "      <td id=\"T_44971_row6_col1\" class=\"data row6 col1\" >0.854158</td>\n",
       "    </tr>\n",
       "    <tr>\n",
       "      <th id=\"T_44971_level0_row7\" class=\"row_heading level0 row7\" >low_rank</th>\n",
       "      <td id=\"T_44971_row7_col0\" class=\"data row7 col0\" >1.081134</td>\n",
       "      <td id=\"T_44971_row7_col1\" class=\"data row7 col1\" >0.884366</td>\n",
       "    </tr>\n",
       "    <tr>\n",
       "      <th id=\"T_44971_level0_row8\" class=\"row_heading level0 row8\" >nuclear_lr</th>\n",
       "      <td id=\"T_44971_row8_col0\" class=\"data row8 col0\" >1.017280</td>\n",
       "      <td id=\"T_44971_row8_col1\" class=\"data row8 col1\" >0.910781</td>\n",
       "    </tr>\n",
       "  </tbody>\n",
       "</table>\n"
      ],
      "text/plain": [
       "<pandas.io.formats.style.Styler at 0x717820b93aa0>"
      ]
     },
     "execution_count": 132,
     "metadata": {},
     "output_type": "execute_result"
    }
   ],
   "source": [
    "rmses = [{k: v['RMSE'] for k, v in el.items()} for el in results_list]\n",
    "\n",
    "rmses_df = pd.DataFrame(rmses, index=datasets_long).T\n",
    "pd.concat([data_stats_df, rmses_df]).style.highlight_min(color='blue')"
   ]
  },
  {
   "cell_type": "code",
   "execution_count": 133,
   "id": "0dd4dc9d",
   "metadata": {},
   "outputs": [
    {
     "data": {
      "text/html": [
       "<style type=\"text/css\">\n",
       "#T_105b0_row7_col0, #T_105b0_row7_col1 {\n",
       "  background-color: blue;\n",
       "}\n",
       "</style>\n",
       "<table id=\"T_105b0\">\n",
       "  <thead>\n",
       "    <tr>\n",
       "      <th class=\"blank level0\" >&nbsp;</th>\n",
       "      <th id=\"T_105b0_level0_col0\" class=\"col_heading level0 col0\" >MovieLens-100k</th>\n",
       "      <th id=\"T_105b0_level0_col1\" class=\"col_heading level0 col1\" >MovieLens-1M</th>\n",
       "    </tr>\n",
       "  </thead>\n",
       "  <tbody>\n",
       "    <tr>\n",
       "      <th id=\"T_105b0_level0_row0\" class=\"row_heading level0 row0\" >Nusers</th>\n",
       "      <td id=\"T_105b0_row0_col0\" class=\"data row0 col0\" >943.000000</td>\n",
       "      <td id=\"T_105b0_row0_col1\" class=\"data row0 col1\" >6040.000000</td>\n",
       "    </tr>\n",
       "    <tr>\n",
       "      <th id=\"T_105b0_level0_row1\" class=\"row_heading level0 row1\" >Nitems</th>\n",
       "      <td id=\"T_105b0_row1_col0\" class=\"data row1 col0\" >1682.000000</td>\n",
       "      <td id=\"T_105b0_row1_col1\" class=\"data row1 col1\" >3706.000000</td>\n",
       "    </tr>\n",
       "    <tr>\n",
       "      <th id=\"T_105b0_level0_row2\" class=\"row_heading level0 row2\" >Nedges</th>\n",
       "      <td id=\"T_105b0_row2_col0\" class=\"data row2 col0\" >100000.000000</td>\n",
       "      <td id=\"T_105b0_row2_col1\" class=\"data row2 col1\" >1000209.000000</td>\n",
       "    </tr>\n",
       "    <tr>\n",
       "      <th id=\"T_105b0_level0_row3\" class=\"row_heading level0 row3\" >IOGCN</th>\n",
       "      <td id=\"T_105b0_row3_col0\" class=\"data row3 col0\" >25.815317</td>\n",
       "      <td id=\"T_105b0_row3_col1\" class=\"data row3 col1\" >112.404729</td>\n",
       "    </tr>\n",
       "    <tr>\n",
       "      <th id=\"T_105b0_level0_row4\" class=\"row_heading level0 row4\" >IOGAT</th>\n",
       "      <td id=\"T_105b0_row4_col0\" class=\"data row4 col0\" >42.557813</td>\n",
       "      <td id=\"T_105b0_row4_col1\" class=\"data row4 col1\" >39.876104</td>\n",
       "    </tr>\n",
       "    <tr>\n",
       "      <th id=\"T_105b0_level0_row5\" class=\"row_heading level0 row5\" >IOMLP</th>\n",
       "      <td id=\"T_105b0_row5_col0\" class=\"data row5 col0\" >9.438913</td>\n",
       "      <td id=\"T_105b0_row5_col1\" class=\"data row5 col1\" >33.495577</td>\n",
       "    </tr>\n",
       "    <tr>\n",
       "      <th id=\"T_105b0_level0_row6\" class=\"row_heading level0 row6\" >IOGCNH</th>\n",
       "      <td id=\"T_105b0_row6_col0\" class=\"data row6 col0\" >18.467719</td>\n",
       "      <td id=\"T_105b0_row6_col1\" class=\"data row6 col1\" >279.145848</td>\n",
       "    </tr>\n",
       "    <tr>\n",
       "      <th id=\"T_105b0_level0_row7\" class=\"row_heading level0 row7\" >low_rank</th>\n",
       "      <td id=\"T_105b0_row7_col0\" class=\"data row7 col0\" >4.212021</td>\n",
       "      <td id=\"T_105b0_row7_col1\" class=\"data row7 col1\" >7.308576</td>\n",
       "    </tr>\n",
       "    <tr>\n",
       "      <th id=\"T_105b0_level0_row8\" class=\"row_heading level0 row8\" >nuclear_lr</th>\n",
       "      <td id=\"T_105b0_row8_col0\" class=\"data row8 col0\" >142.064090</td>\n",
       "      <td id=\"T_105b0_row8_col1\" class=\"data row8 col1\" >22590.233299</td>\n",
       "    </tr>\n",
       "  </tbody>\n",
       "</table>\n"
      ],
      "text/plain": [
       "<pandas.io.formats.style.Styler at 0x717820bfc3b0>"
      ]
     },
     "execution_count": 133,
     "metadata": {},
     "output_type": "execute_result"
    }
   ],
   "source": [
    "times = [{k: v['Elapsed Time'] for k, v in el.items()} for el in results_list]\n",
    "\n",
    "times_df = pd.DataFrame(times, index=datasets_long).T\n",
    "pd.concat([data_stats_df, times_df]).style.highlight_min(color='blue')"
   ]
  },
  {
   "cell_type": "code",
   "execution_count": 134,
   "id": "1ae32c6a-6749-45b2-9d1a-b56b6060a351",
   "metadata": {},
   "outputs": [
    {
     "name": "stdout",
     "output_type": "stream",
     "text": [
      "\n",
      "\\begin{table*}[ht]\n",
      "\\renewcommand{\\tabcolsep}{3pt}\n",
      "\\centering\n",
      "\\caption{Performance comparison of models across datasets.}\n",
      "\\begin{tabular}{lcccccccccccccc}\n",
      "\\toprule\n",
      "\\multirow{2}{*}{\\textbf{Dataset}} & \\multirow{2}{*}{\\boldmath{$N_u$}} & \\multirow{2}{*}{\\boldmath{$N_i$}} & \\multirow{2}{*}{\\boldmath{$N_r$}} & \\multicolumn{2}{c}{\\textbf{IOGAT}} & \\multicolumn{2}{c}{\\textbf{IOGCNH}} & \\multicolumn{2}{c}{\\textbf{IOMLP}} & \\multicolumn{2}{c}{\\textbf{MF}} & \\multicolumn{2}{c}{\\textbf{LR Nuc}} \\\\\n",
      "\\cmidrule(r){5-6} \\cmidrule(r){7-8} \\cmidrule(r){9-10} \\cmidrule(r){11-12} \\cmidrule(r){13-14}\n",
      "& & &  & RMSE & Time & RMSE & Time & RMSE & Time & RMSE & Time & RMSE & Time \\\\\n",
      "\\midrule\n",
      "MovieLens-100k & 943 & 1682 & 100000 & 0.936820 & 42.56 & 0.931795 & 18.47 & 0.944586 & 9.44 & 1.081134 & 4.21 & 1.017280 & 142.06 \\\\\n",
      "MovieLens-1M & 6040 & 3706 & 1000209 & 0.871231 & 39.88 & 0.854158 & 279.15 & 0.862786 & 33.50 & 0.884366 & 7.31 & 0.910781 & 22590.23 \\\\\n",
      "\n",
      "\\bottomrule\n",
      "\\end{tabular}\n",
      "\\label{tab:recommendation}\n",
      "\\end{table*}\n",
      "\n"
     ]
    }
   ],
   "source": [
    "import pandas as pd\n",
    "\n",
    "# Assuming `data_stats_df`, `rmses_df`, and `times_df` are already defined in the notebook\n",
    "datasets_long = ['MovieLens-100k', 'MovieLens-1M']\n",
    "\n",
    "# Update model names for better readability\n",
    "rmses_df = rmses_df.rename(index={\"low_rank\": \"MF\", \"nuclear_lr\": \"LR Nuc\"})\n",
    "times_df = times_df.rename(index={\"low_rank\": \"MF\", \"nuclear_lr\": \"LR Nuc\"})\n",
    "\n",
    "# Define the new order of models\n",
    "model_order = [\"IOGAT\", \"IOGCNH\", \"IOMLP\", \"MF\", \"LR Nuc\"]\n",
    "\n",
    "# Generate LaTeX table\n",
    "latex_table = r\"\"\"\n",
    "\\begin{table*}[ht]\n",
    "\\renewcommand{\\tabcolsep}{3pt}\n",
    "\\centering\n",
    "\\caption{Performance comparison of models across datasets.}\n",
    "\\begin{tabular}{lcccc\"\"\" + \"cc\" * len(model_order) + r\"\"\"}\n",
    "\\toprule\n",
    "\\multirow{2}{*}{\\textbf{Dataset}} & \\multirow{2}{*}{\\boldmath{$N_u$}} & \\multirow{2}{*}{\\boldmath{$N_i$}} & \\multirow{2}{*}{\\boldmath{$N_r$}}\"\"\"\n",
    "\n",
    "# Add model names as multicolumn headers\n",
    "for model in model_order:\n",
    "    latex_table += f\" & \\\\multicolumn{{2}}{{c}}{{\\\\textbf{{{model}}}}}\"\n",
    "\n",
    "latex_table += r\"\"\" \\\\\n",
    "\\cmidrule(r){5-6} \\cmidrule(r){7-8} \\cmidrule(r){9-10} \\cmidrule(r){11-12} \\cmidrule(r){13-14}\n",
    "& & & \"\"\" + \" & RMSE & Time\" * len(model_order) + r\"\"\" \\\\\n",
    "\\midrule\n",
    "\"\"\"\n",
    "\n",
    "# Add rows for each dataset\n",
    "for dataset in datasets_long:\n",
    "    latex_table += f\"{dataset} & {data_stats_df.loc['Nusers', dataset]} & {data_stats_df.loc['Nitems', dataset]} & {data_stats_df.loc['Nedges', dataset]}\"\n",
    "    for model in model_order:\n",
    "        latex_table += f\" & {rmses_df.loc[model, dataset]:.6f} & {times_df.loc[model, dataset]:.2f}\"\n",
    "    latex_table += r\" \\\\\" + \"\\n\"\n",
    "\n",
    "latex_table += r\"\"\"\n",
    "\\bottomrule\n",
    "\\end{tabular}\n",
    "\\label{tab:recommendation}\n",
    "\\end{table*}\n",
    "\"\"\"\n",
    "\n",
    "# Print the LaTeX table\n",
    "print(latex_table)"
   ]
  },
  {
   "cell_type": "code",
   "execution_count": 74,
   "id": "7913df13",
   "metadata": {},
   "outputs": [
    {
     "data": {
      "text/plain": [
       "<AxesSubplot: >"
      ]
     },
     "execution_count": 74,
     "metadata": {},
     "output_type": "execute_result"
    },
    {
     "data": {
      "image/png": "[encoded data removed]",
      "text/plain": [
       "<Figure size 640x480 with 1 Axes>"
      ]
     },
     "metadata": {},
     "output_type": "display_data"
    }
   ],
   "source": [
    "times_df.T.plot(logy=True)"
   ]
  },
  {
   "cell_type": "code",
   "execution_count": 75,
   "id": "43713fb7",
   "metadata": {},
   "outputs": [
    {
     "data": {
      "text/plain": [
       "<matplotlib.legend.Legend at 0x71782101b5c0>"
      ]
     },
     "execution_count": 75,
     "metadata": {},
     "output_type": "execute_result"
    },
    {
     "data": {
      "image/png": "[encoded data removed]",
      "text/plain": [
       "<Figure size 640x480 with 1 Axes>"
      ]
     },
     "metadata": {},
     "output_type": "display_data"
    }
   ],
   "source": [
    "plt.semilogy(np.arange(2), times_df.values.T)\n",
    "plt.xticks(np.arange(2), datasets_long)\n",
    "plt.ylabel(\"Running time (s)\")\n",
    "plt.legend(times_df.index)"
   ]
  },
  {
   "cell_type": "code",
   "execution_count": 76,
   "id": "3dcf0aab",
   "metadata": {},
   "outputs": [
    {
     "data": {
      "text/plain": [
       "<matplotlib.legend.Legend at 0x717820dde810>"
      ]
     },
     "execution_count": 76,
     "metadata": {},
     "output_type": "execute_result"
    },
    {
     "data": {
      "image/png": "[encoded data removed]",
      "text/plain": [
       "<Figure size 640x480 with 1 Axes>"
      ]
     },
     "metadata": {},
     "output_type": "display_data"
    }
   ],
   "source": [
    "nedges_arr = np.array([el['Nedges'] for el in data_stats])\n",
    "plt.loglog(nedges_arr, times_df.values.T)\n",
    "plt.xticks(nedges_arr, nedges_arr)\n",
    "plt.ylabel(\"Running time (s)\")\n",
    "plt.xlabel(\"Number of edges\")\n",
    "plt.legend(times_df.index)"
   ]
  },
  {
   "cell_type": "code",
   "execution_count": null,
   "id": "d4bfc55f",
   "metadata": {},
   "outputs": [],
   "source": []
  }
 ],
 "metadata": {
  "kernelspec": {
   "display_name": "Python 3 (ipykernel)",
   "language": "python",
   "name": "python3"
  },
  "language_info": {
   "codemirror_mode": {
    "name": "ipython",
    "version": 3
   },
   "file_extension": ".py",
   "mimetype": "text/x-python",
   "name": "python",
   "nbconvert_exporter": "python",
   "pygments_lexer": "ipython3",
   "version": "3.12.3"
  }
 },
 "nbformat": 4,
 "nbformat_minor": 5
}
